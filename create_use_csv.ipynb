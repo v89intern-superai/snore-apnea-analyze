{
 "cells": [
  {
   "cell_type": "markdown",
   "id": "b0b77e2b",
   "metadata": {},
   "source": [
    "# Combined CSV"
   ]
  },
  {
   "cell_type": "code",
   "execution_count": 3,
   "id": "1145a46d",
   "metadata": {},
   "outputs": [],
   "source": [
    "import os\n",
    "import pandas as pd\n",
    "\n",
    "# Folder containing CSV files\n",
    "folder_path = r\"C:\\V89\\Snore_Apnea_Analyze\\EDF_RML\\data_csv\\use_test\\each_person_csv\"\n",
    "output_path = r\"C:\\V89\\Snore_Apnea_Analyze\\EDF_RML\\data_csv\\use_train\\test\""
   ]
  },
  {
   "cell_type": "code",
   "execution_count": 4,
   "id": "fc93749b",
   "metadata": {},
   "outputs": [
    {
     "name": "stdout",
     "output_type": "stream",
     "text": [
      "✅ Combined 3 CSV files into C:\\V89\\Snore_Apnea_Analyze\\EDF_RML\\data_csv\\use_test\\each_person_csv\\combined_test.csv\n",
      "Total rows: 3898\n"
     ]
    }
   ],
   "source": [
    "# List all CSV files in the folder\n",
    "csv_files = [f for f in os.listdir(folder_path) if f.lower().endswith(\".csv\")]\n",
    "\n",
    "# Read and combine\n",
    "df_list = []\n",
    "for file in csv_files:\n",
    "    file_path = os.path.join(folder_path, file)\n",
    "    df = pd.read_csv(file_path)\n",
    "    df_list.append(df)\n",
    "\n",
    "# Concatenate into one DataFrame\n",
    "combined_df = pd.concat(df_list, ignore_index=True)\n",
    "\n",
    "# Save to a single CSV\n",
    "output_path = os.path.join(folder_path, \"combined_test.csv\")\n",
    "combined_df.to_csv(output_path, index=False)\n",
    "\n",
    "print(f\"✅ Combined {len(csv_files)} CSV files into {output_path}\")\n",
    "print(f\"Total rows: {len(combined_df)}\")\n"
   ]
  },
  {
   "cell_type": "markdown",
   "id": "4f83f084",
   "metadata": {},
   "source": [
    "# Check"
   ]
  },
  {
   "cell_type": "code",
   "execution_count": 5,
   "id": "9fbc2bdb",
   "metadata": {},
   "outputs": [
    {
     "data": {
      "text/html": [
       "<div>\n",
       "<style scoped>\n",
       "    .dataframe tbody tr th:only-of-type {\n",
       "        vertical-align: middle;\n",
       "    }\n",
       "\n",
       "    .dataframe tbody tr th {\n",
       "        vertical-align: top;\n",
       "    }\n",
       "\n",
       "    .dataframe thead th {\n",
       "        text-align: right;\n",
       "    }\n",
       "</style>\n",
       "<table border=\"1\" class=\"dataframe\">\n",
       "  <thead>\n",
       "    <tr style=\"text-align: right;\">\n",
       "      <th></th>\n",
       "      <th>patient_id</th>\n",
       "      <th>event_id</th>\n",
       "      <th>family</th>\n",
       "      <th>type</th>\n",
       "      <th>start_sec</th>\n",
       "      <th>duration_sec</th>\n",
       "      <th>end_sec</th>\n",
       "      <th>segment_index</th>\n",
       "      <th>segment_local_start_sec</th>\n",
       "      <th>recording_start_iso</th>\n",
       "    </tr>\n",
       "  </thead>\n",
       "  <tbody>\n",
       "    <tr>\n",
       "      <th>0</th>\n",
       "      <td>1010</td>\n",
       "      <td>0</td>\n",
       "      <td>User</td>\n",
       "      <td>Gain</td>\n",
       "      <td>0.0</td>\n",
       "      <td>0.0</td>\n",
       "      <td>0.0</td>\n",
       "      <td>0</td>\n",
       "      <td>0.0</td>\n",
       "      <td>2019-05-03T23:06:21</td>\n",
       "    </tr>\n",
       "    <tr>\n",
       "      <th>1</th>\n",
       "      <td>1010</td>\n",
       "      <td>1</td>\n",
       "      <td>User</td>\n",
       "      <td>ChannelFail</td>\n",
       "      <td>0.0</td>\n",
       "      <td>30.0</td>\n",
       "      <td>30.0</td>\n",
       "      <td>0</td>\n",
       "      <td>0.0</td>\n",
       "      <td>2019-05-03T23:06:21</td>\n",
       "    </tr>\n",
       "    <tr>\n",
       "      <th>2</th>\n",
       "      <td>1010</td>\n",
       "      <td>2</td>\n",
       "      <td>User</td>\n",
       "      <td>ChannelFail</td>\n",
       "      <td>0.0</td>\n",
       "      <td>6.0</td>\n",
       "      <td>6.0</td>\n",
       "      <td>0</td>\n",
       "      <td>0.0</td>\n",
       "      <td>2019-05-03T23:06:21</td>\n",
       "    </tr>\n",
       "    <tr>\n",
       "      <th>3</th>\n",
       "      <td>1010</td>\n",
       "      <td>3</td>\n",
       "      <td>Nasal</td>\n",
       "      <td>Snore</td>\n",
       "      <td>40.0</td>\n",
       "      <td>6.0</td>\n",
       "      <td>46.0</td>\n",
       "      <td>0</td>\n",
       "      <td>40.0</td>\n",
       "      <td>2019-05-03T23:06:21</td>\n",
       "    </tr>\n",
       "    <tr>\n",
       "      <th>4</th>\n",
       "      <td>1010</td>\n",
       "      <td>4</td>\n",
       "      <td>Cardiac</td>\n",
       "      <td>LongRR</td>\n",
       "      <td>56.0</td>\n",
       "      <td>2.0</td>\n",
       "      <td>58.0</td>\n",
       "      <td>0</td>\n",
       "      <td>56.0</td>\n",
       "      <td>2019-05-03T23:06:21</td>\n",
       "    </tr>\n",
       "    <tr>\n",
       "      <th>...</th>\n",
       "      <td>...</td>\n",
       "      <td>...</td>\n",
       "      <td>...</td>\n",
       "      <td>...</td>\n",
       "      <td>...</td>\n",
       "      <td>...</td>\n",
       "      <td>...</td>\n",
       "      <td>...</td>\n",
       "      <td>...</td>\n",
       "      <td>...</td>\n",
       "    </tr>\n",
       "    <tr>\n",
       "      <th>3893</th>\n",
       "      <td>1016</td>\n",
       "      <td>810</td>\n",
       "      <td>Cardiac</td>\n",
       "      <td>PttDrop</td>\n",
       "      <td>21554.0</td>\n",
       "      <td>9.0</td>\n",
       "      <td>21563.0</td>\n",
       "      <td>5</td>\n",
       "      <td>3554.0</td>\n",
       "      <td>2019-05-08T23:04:32</td>\n",
       "    </tr>\n",
       "    <tr>\n",
       "      <th>3894</th>\n",
       "      <td>1016</td>\n",
       "      <td>811</td>\n",
       "      <td>Cardiac</td>\n",
       "      <td>PttDrop</td>\n",
       "      <td>21648.0</td>\n",
       "      <td>12.0</td>\n",
       "      <td>21660.0</td>\n",
       "      <td>6</td>\n",
       "      <td>48.0</td>\n",
       "      <td>2019-05-08T23:04:32</td>\n",
       "    </tr>\n",
       "    <tr>\n",
       "      <th>3895</th>\n",
       "      <td>1016</td>\n",
       "      <td>812</td>\n",
       "      <td>User</td>\n",
       "      <td>ChannelFail</td>\n",
       "      <td>21660.0</td>\n",
       "      <td>90.0</td>\n",
       "      <td>21750.0</td>\n",
       "      <td>6</td>\n",
       "      <td>60.0</td>\n",
       "      <td>2019-05-08T23:04:32</td>\n",
       "    </tr>\n",
       "    <tr>\n",
       "      <th>3896</th>\n",
       "      <td>1016</td>\n",
       "      <td>813</td>\n",
       "      <td>Cardiac</td>\n",
       "      <td>PttDrop</td>\n",
       "      <td>21768.0</td>\n",
       "      <td>12.0</td>\n",
       "      <td>21780.0</td>\n",
       "      <td>6</td>\n",
       "      <td>168.0</td>\n",
       "      <td>2019-05-08T23:04:32</td>\n",
       "    </tr>\n",
       "    <tr>\n",
       "      <th>3897</th>\n",
       "      <td>1016</td>\n",
       "      <td>814</td>\n",
       "      <td>Neuro</td>\n",
       "      <td>Arousal</td>\n",
       "      <td>21840.0</td>\n",
       "      <td>4.0</td>\n",
       "      <td>21844.0</td>\n",
       "      <td>6</td>\n",
       "      <td>240.0</td>\n",
       "      <td>2019-05-08T23:04:32</td>\n",
       "    </tr>\n",
       "  </tbody>\n",
       "</table>\n",
       "<p>3898 rows × 10 columns</p>\n",
       "</div>"
      ],
      "text/plain": [
       "      patient_id  event_id   family         type  start_sec  duration_sec  \\\n",
       "0           1010         0     User         Gain        0.0           0.0   \n",
       "1           1010         1     User  ChannelFail        0.0          30.0   \n",
       "2           1010         2     User  ChannelFail        0.0           6.0   \n",
       "3           1010         3    Nasal        Snore       40.0           6.0   \n",
       "4           1010         4  Cardiac       LongRR       56.0           2.0   \n",
       "...          ...       ...      ...          ...        ...           ...   \n",
       "3893        1016       810  Cardiac      PttDrop    21554.0           9.0   \n",
       "3894        1016       811  Cardiac      PttDrop    21648.0          12.0   \n",
       "3895        1016       812     User  ChannelFail    21660.0          90.0   \n",
       "3896        1016       813  Cardiac      PttDrop    21768.0          12.0   \n",
       "3897        1016       814    Neuro      Arousal    21840.0           4.0   \n",
       "\n",
       "      end_sec  segment_index  segment_local_start_sec  recording_start_iso  \n",
       "0         0.0              0                      0.0  2019-05-03T23:06:21  \n",
       "1        30.0              0                      0.0  2019-05-03T23:06:21  \n",
       "2         6.0              0                      0.0  2019-05-03T23:06:21  \n",
       "3        46.0              0                     40.0  2019-05-03T23:06:21  \n",
       "4        58.0              0                     56.0  2019-05-03T23:06:21  \n",
       "...       ...            ...                      ...                  ...  \n",
       "3893  21563.0              5                   3554.0  2019-05-08T23:04:32  \n",
       "3894  21660.0              6                     48.0  2019-05-08T23:04:32  \n",
       "3895  21750.0              6                     60.0  2019-05-08T23:04:32  \n",
       "3896  21780.0              6                    168.0  2019-05-08T23:04:32  \n",
       "3897  21844.0              6                    240.0  2019-05-08T23:04:32  \n",
       "\n",
       "[3898 rows x 10 columns]"
      ]
     },
     "execution_count": 5,
     "metadata": {},
     "output_type": "execute_result"
    }
   ],
   "source": [
    "df = pd.read_csv(r\"C:\\V89\\Snore_Apnea_Analyze\\EDF_RML\\data_csv\\use_test\\test\\combined_test.csv\")\n",
    "df"
   ]
  },
  {
   "cell_type": "code",
   "execution_count": 6,
   "id": "a7baf436",
   "metadata": {},
   "outputs": [
    {
     "data": {
      "text/plain": [
       "type\n",
       "Arousal                 704\n",
       "LongRR                  521\n",
       "Bradycardia             472\n",
       "RelativeDesaturation    451\n",
       "ObstructiveApnea        447\n",
       "Snore                   415\n",
       "PttDrop                 401\n",
       "ChannelFail             189\n",
       "Hypopnea                155\n",
       "Gain                     70\n",
       "Tachycardia              48\n",
       "MixedApnea               21\n",
       "CentralApnea              4\n",
       "Name: count, dtype: int64"
      ]
     },
     "execution_count": 6,
     "metadata": {},
     "output_type": "execute_result"
    }
   ],
   "source": [
    "df['type'].value_counts()"
   ]
  },
  {
   "cell_type": "code",
   "execution_count": 8,
   "id": "6d5e4221",
   "metadata": {},
   "outputs": [],
   "source": [
    "df2 = pd.read_csv(r'C:\\V89\\Snore_Apnea_Analyze\\EDF_RML\\data_csv\\use_train\\train\\combined_train.csv')"
   ]
  },
  {
   "cell_type": "code",
   "execution_count": 9,
   "id": "66d2722a",
   "metadata": {},
   "outputs": [
    {
     "data": {
      "text/plain": [
       "type\n",
       "Arousal                 1491\n",
       "Bradycardia              965\n",
       "ObstructiveApnea         645\n",
       "LongRR                   622\n",
       "PttDrop                  609\n",
       "ChannelFail              442\n",
       "RelativeDesaturation     435\n",
       "LegMovement              420\n",
       "Hypopnea                 386\n",
       "Snore                    279\n",
       "Gain                     209\n",
       "Tachycardia              188\n",
       "MixedApnea                71\n",
       "CentralApnea              38\n",
       "Name: count, dtype: int64"
      ]
     },
     "execution_count": 9,
     "metadata": {},
     "output_type": "execute_result"
    }
   ],
   "source": [
    "df2['type'].value_counts()"
   ]
  },
  {
   "cell_type": "code",
   "execution_count": 10,
   "id": "043b0580",
   "metadata": {},
   "outputs": [
    {
     "name": "stdout",
     "output_type": "stream",
     "text": [
      "✅ Filtered CSV saved to C:\\V89\\Snore_Apnea_Analyze\\EDF_RML\\data_csv\\use_train\\train\\use_train.csv\n",
      "Remaining rows: 774\n",
      "type\n",
      "Hypopnea        386\n",
      "Snore           279\n",
      "MixedApnea       71\n",
      "CentralApnea     38\n",
      "Name: count, dtype: int64\n"
     ]
    }
   ],
   "source": [
    "# กำหนด type ที่ต้องการเก็บ\n",
    "keep_types = [\"Hypopnea\", \"Snore\", \"MixedApnea\", \"CentralApnea\"]\n",
    "\n",
    "# กรองข้อมูล\"\n",
    "df_filtered = df2[df2['type'].isin(keep_types)].reset_index(drop=True)\n",
    "\n",
    "# บันทึกทับไฟล์เดิมหรือเป็นไฟล์ใหม่\n",
    "output_path = r\"C:\\V89\\Snore_Apnea_Analyze\\EDF_RML\\data_csv\\use_train\\train\\use_train.csv\"\n",
    "df_filtered.to_csv(output_path, index=False)\n",
    "\n",
    "print(f\"✅ Filtered CSV saved to {output_path}\")\n",
    "print(f\"Remaining rows: {len(df_filtered)}\")\n",
    "print(df_filtered['type'].value_counts())"
   ]
  },
  {
   "cell_type": "code",
   "execution_count": 11,
   "id": "f8f2ea8a",
   "metadata": {},
   "outputs": [
    {
     "name": "stdout",
     "output_type": "stream",
     "text": [
      "✅ Filtered CSV saved to C:\\V89\\Snore_Apnea_Analyze\\EDF_RML\\data_csv\\use_train\\train\\use_test.csv\n",
      "Remaining rows: 595\n",
      "type\n",
      "Snore           415\n",
      "Hypopnea        155\n",
      "MixedApnea       21\n",
      "CentralApnea      4\n",
      "Name: count, dtype: int64\n"
     ]
    }
   ],
   "source": [
    "# กำหนด type ที่ต้องการเก็บ\n",
    "keep_types = [\"Hypopnea\", \"Snore\", \"MixedApnea\", \"CentralApnea\"]\n",
    "\n",
    "# กรองข้อมูล\"\n",
    "df_filtered = df[df['type'].isin(keep_types)].reset_index(drop=True)\n",
    "\n",
    "# บันทึกทับไฟล์เดิมหรือเป็นไฟล์ใหม่\n",
    "output_path = r\"C:\\V89\\Snore_Apnea_Analyze\\EDF_RML\\data_csv\\use_train\\train\\use_test.csv\"\n",
    "df_filtered.to_csv(output_path, index=False)\n",
    "\n",
    "print(f\"✅ Filtered CSV saved to {output_path}\")\n",
    "print(f\"Remaining rows: {len(df_filtered)}\")\n",
    "print(df_filtered['type'].value_counts())"
   ]
  },
  {
   "cell_type": "code",
   "execution_count": null,
   "id": "25c36c0a",
   "metadata": {},
   "outputs": [],
   "source": []
  }
 ],
 "metadata": {
  "kernelspec": {
   "display_name": ".venv",
   "language": "python",
   "name": "python3"
  },
  "language_info": {
   "codemirror_mode": {
    "name": "ipython",
    "version": 3
   },
   "file_extension": ".py",
   "mimetype": "text/x-python",
   "name": "python",
   "nbconvert_exporter": "python",
   "pygments_lexer": "ipython3",
   "version": "3.11.7"
  }
 },
 "nbformat": 4,
 "nbformat_minor": 5
}
