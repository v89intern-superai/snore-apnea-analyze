{
 "cells": [
  {
   "cell_type": "markdown",
   "id": "695512c3",
   "metadata": {},
   "source": [
    "# EDF มีไรบ้าง"
   ]
  },
  {
   "cell_type": "code",
   "execution_count": null,
   "id": "780d085a",
   "metadata": {},
   "outputs": [],
   "source": []
  },
  {
   "cell_type": "code",
   "execution_count": null,
   "id": "fca68280",
   "metadata": {},
   "outputs": [],
   "source": []
  },
  {
   "cell_type": "code",
   "execution_count": null,
   "id": "dda2335f",
   "metadata": {},
   "outputs": [],
   "source": []
  },
  {
   "cell_type": "markdown",
   "id": "dd503715",
   "metadata": {},
   "source": [
    "# ฟังเสียงกรน"
   ]
  },
  {
   "cell_type": "code",
   "execution_count": null,
   "id": "54f95276",
   "metadata": {},
   "outputs": [],
   "source": []
  }
 ],
 "metadata": {
  "language_info": {
   "name": "python"
  }
 },
 "nbformat": 4,
 "nbformat_minor": 5
}
