{
 "cells": [
  {
   "cell_type": "code",
   "execution_count": 1,
   "id": "95924910",
   "metadata": {},
   "outputs": [
    {
     "name": "stdout",
     "output_type": "stream",
     "text": [
      "Requirement already satisfied: torch in c:\\users\\abcde\\appdata\\local\\programs\\python\\python311\\lib\\site-packages (2.8.0)\n",
      "Collecting torchaudio\n",
      "  Using cached torchaudio-2.8.0-cp311-cp311-win_amd64.whl.metadata (7.2 kB)\n",
      "Collecting tensorflow_hub\n",
      "  Downloading tensorflow_hub-0.16.1-py2.py3-none-any.whl.metadata (1.3 kB)\n",
      "Requirement already satisfied: librosa in c:\\users\\abcde\\appdata\\local\\programs\\python\\python311\\lib\\site-packages (0.11.0)\n",
      "Requirement already satisfied: scikit-learn in c:\\users\\abcde\\appdata\\local\\programs\\python\\python311\\lib\\site-packages (1.7.1)\n",
      "Requirement already satisfied: matplotlib in c:\\users\\abcde\\appdata\\local\\programs\\python\\python311\\lib\\site-packages (3.10.5)\n",
      "Requirement already satisfied: tqdm in c:\\users\\abcde\\appdata\\local\\programs\\python\\python311\\lib\\site-packages (4.67.1)\n",
      "Requirement already satisfied: filelock in c:\\users\\abcde\\appdata\\local\\programs\\python\\python311\\lib\\site-packages (from torch) (3.18.0)\n",
      "Requirement already satisfied: typing-extensions>=4.10.0 in c:\\users\\abcde\\appdata\\local\\programs\\python\\python311\\lib\\site-packages (from torch) (4.14.1)\n",
      "Requirement already satisfied: sympy>=1.13.3 in c:\\users\\abcde\\appdata\\local\\programs\\python\\python311\\lib\\site-packages (from torch) (1.14.0)\n",
      "Requirement already satisfied: networkx in c:\\users\\abcde\\appdata\\local\\programs\\python\\python311\\lib\\site-packages (from torch) (3.5)\n",
      "Requirement already satisfied: jinja2 in c:\\users\\abcde\\appdata\\local\\programs\\python\\python311\\lib\\site-packages (from torch) (3.1.6)\n",
      "Requirement already satisfied: fsspec in c:\\users\\abcde\\appdata\\local\\programs\\python\\python311\\lib\\site-packages (from torch) (2025.7.0)\n",
      "Requirement already satisfied: numpy>=1.12.0 in c:\\users\\abcde\\appdata\\local\\programs\\python\\python311\\lib\\site-packages (from tensorflow_hub) (2.2.6)\n",
      "Collecting protobuf>=3.19.6 (from tensorflow_hub)\n",
      "  Downloading protobuf-6.31.1-cp310-abi3-win_amd64.whl.metadata (593 bytes)\n",
      "Collecting tf-keras>=2.14.1 (from tensorflow_hub)\n",
      "  Downloading tf_keras-2.19.0-py3-none-any.whl.metadata (1.8 kB)\n",
      "Requirement already satisfied: audioread>=2.1.9 in c:\\users\\abcde\\appdata\\local\\programs\\python\\python311\\lib\\site-packages (from librosa) (3.0.1)\n",
      "Requirement already satisfied: numba>=0.51.0 in c:\\users\\abcde\\appdata\\local\\programs\\python\\python311\\lib\\site-packages (from librosa) (0.61.2)\n",
      "Requirement already satisfied: scipy>=1.6.0 in c:\\users\\abcde\\appdata\\local\\programs\\python\\python311\\lib\\site-packages (from librosa) (1.16.1)\n",
      "Requirement already satisfied: joblib>=1.0 in c:\\users\\abcde\\appdata\\local\\programs\\python\\python311\\lib\\site-packages (from librosa) (1.5.1)\n",
      "Requirement already satisfied: decorator>=4.3.0 in c:\\users\\abcde\\appdata\\local\\programs\\python\\python311\\lib\\site-packages (from librosa) (5.2.1)\n",
      "Requirement already satisfied: soundfile>=0.12.1 in c:\\users\\abcde\\appdata\\local\\programs\\python\\python311\\lib\\site-packages (from librosa) (0.13.1)\n",
      "Requirement already satisfied: pooch>=1.1 in c:\\users\\abcde\\appdata\\local\\programs\\python\\python311\\lib\\site-packages (from librosa) (1.8.2)\n",
      "Requirement already satisfied: soxr>=0.3.2 in c:\\users\\abcde\\appdata\\local\\programs\\python\\python311\\lib\\site-packages (from librosa) (0.5.0.post1)\n",
      "Requirement already satisfied: lazy_loader>=0.1 in c:\\users\\abcde\\appdata\\local\\programs\\python\\python311\\lib\\site-packages (from librosa) (0.4)\n",
      "Requirement already satisfied: msgpack>=1.0 in c:\\users\\abcde\\appdata\\local\\programs\\python\\python311\\lib\\site-packages (from librosa) (1.1.1)\n",
      "Requirement already satisfied: threadpoolctl>=3.1.0 in c:\\users\\abcde\\appdata\\local\\programs\\python\\python311\\lib\\site-packages (from scikit-learn) (3.6.0)\n",
      "Requirement already satisfied: contourpy>=1.0.1 in c:\\users\\abcde\\appdata\\local\\programs\\python\\python311\\lib\\site-packages (from matplotlib) (1.3.3)\n",
      "Requirement already satisfied: cycler>=0.10 in c:\\users\\abcde\\appdata\\local\\programs\\python\\python311\\lib\\site-packages (from matplotlib) (0.12.1)\n",
      "Requirement already satisfied: fonttools>=4.22.0 in c:\\users\\abcde\\appdata\\local\\programs\\python\\python311\\lib\\site-packages (from matplotlib) (4.59.0)\n",
      "Requirement already satisfied: kiwisolver>=1.3.1 in c:\\users\\abcde\\appdata\\local\\programs\\python\\python311\\lib\\site-packages (from matplotlib) (1.4.8)\n",
      "Requirement already satisfied: packaging>=20.0 in c:\\users\\abcde\\appdata\\local\\programs\\python\\python311\\lib\\site-packages (from matplotlib) (25.0)\n",
      "Requirement already satisfied: pillow>=8 in c:\\users\\abcde\\appdata\\local\\programs\\python\\python311\\lib\\site-packages (from matplotlib) (11.3.0)\n",
      "Requirement already satisfied: pyparsing>=2.3.1 in c:\\users\\abcde\\appdata\\local\\programs\\python\\python311\\lib\\site-packages (from matplotlib) (3.2.3)\n",
      "Requirement already satisfied: python-dateutil>=2.7 in c:\\users\\abcde\\appdata\\local\\programs\\python\\python311\\lib\\site-packages (from matplotlib) (2.9.0.post0)\n",
      "Requirement already satisfied: colorama in c:\\users\\abcde\\appdata\\roaming\\python\\python311\\site-packages (from tqdm) (0.4.6)\n",
      "Requirement already satisfied: llvmlite<0.45,>=0.44.0dev0 in c:\\users\\abcde\\appdata\\local\\programs\\python\\python311\\lib\\site-packages (from numba>=0.51.0->librosa) (0.44.0)\n",
      "Requirement already satisfied: platformdirs>=2.5.0 in c:\\users\\abcde\\appdata\\local\\programs\\python\\python311\\lib\\site-packages (from pooch>=1.1->librosa) (4.3.8)\n",
      "Requirement already satisfied: requests>=2.19.0 in c:\\users\\abcde\\appdata\\local\\programs\\python\\python311\\lib\\site-packages (from pooch>=1.1->librosa) (2.32.4)\n",
      "Requirement already satisfied: six>=1.5 in c:\\users\\abcde\\appdata\\local\\programs\\python\\python311\\lib\\site-packages (from python-dateutil>=2.7->matplotlib) (1.17.0)\n",
      "Requirement already satisfied: charset_normalizer<4,>=2 in c:\\users\\abcde\\appdata\\local\\programs\\python\\python311\\lib\\site-packages (from requests>=2.19.0->pooch>=1.1->librosa) (3.4.2)\n",
      "Requirement already satisfied: idna<4,>=2.5 in c:\\users\\abcde\\appdata\\local\\programs\\python\\python311\\lib\\site-packages (from requests>=2.19.0->pooch>=1.1->librosa) (3.10)\n",
      "Requirement already satisfied: urllib3<3,>=1.21.1 in c:\\users\\abcde\\appdata\\local\\programs\\python\\python311\\lib\\site-packages (from requests>=2.19.0->pooch>=1.1->librosa) (2.5.0)\n",
      "Requirement already satisfied: certifi>=2017.4.17 in c:\\users\\abcde\\appdata\\local\\programs\\python\\python311\\lib\\site-packages (from requests>=2.19.0->pooch>=1.1->librosa) (2025.8.3)\n",
      "Requirement already satisfied: cffi>=1.0 in c:\\users\\abcde\\appdata\\local\\programs\\python\\python311\\lib\\site-packages (from soundfile>=0.12.1->librosa) (1.17.1)\n",
      "Requirement already satisfied: pycparser in c:\\users\\abcde\\appdata\\local\\programs\\python\\python311\\lib\\site-packages (from cffi>=1.0->soundfile>=0.12.1->librosa) (2.22)\n",
      "Requirement already satisfied: mpmath<1.4,>=1.1.0 in c:\\users\\abcde\\appdata\\local\\programs\\python\\python311\\lib\\site-packages (from sympy>=1.13.3->torch) (1.3.0)\n",
      "Collecting tensorflow<2.20,>=2.19 (from tf-keras>=2.14.1->tensorflow_hub)\n",
      "  Downloading tensorflow-2.19.1-cp311-cp311-win_amd64.whl.metadata (4.1 kB)\n",
      "Collecting absl-py>=1.0.0 (from tensorflow<2.20,>=2.19->tf-keras>=2.14.1->tensorflow_hub)\n",
      "  Downloading absl_py-2.3.1-py3-none-any.whl.metadata (3.3 kB)\n",
      "Collecting astunparse>=1.6.0 (from tensorflow<2.20,>=2.19->tf-keras>=2.14.1->tensorflow_hub)\n",
      "  Downloading astunparse-1.6.3-py2.py3-none-any.whl.metadata (4.4 kB)\n",
      "Collecting flatbuffers>=24.3.25 (from tensorflow<2.20,>=2.19->tf-keras>=2.14.1->tensorflow_hub)\n",
      "  Downloading flatbuffers-25.2.10-py2.py3-none-any.whl.metadata (875 bytes)\n",
      "Collecting gast!=0.5.0,!=0.5.1,!=0.5.2,>=0.2.1 (from tensorflow<2.20,>=2.19->tf-keras>=2.14.1->tensorflow_hub)\n",
      "  Downloading gast-0.6.0-py3-none-any.whl.metadata (1.3 kB)\n",
      "Collecting google-pasta>=0.1.1 (from tensorflow<2.20,>=2.19->tf-keras>=2.14.1->tensorflow_hub)\n",
      "  Downloading google_pasta-0.2.0-py3-none-any.whl.metadata (814 bytes)\n",
      "Collecting libclang>=13.0.0 (from tensorflow<2.20,>=2.19->tf-keras>=2.14.1->tensorflow_hub)\n",
      "  Downloading libclang-18.1.1-py2.py3-none-win_amd64.whl.metadata (5.3 kB)\n",
      "Collecting opt-einsum>=2.3.2 (from tensorflow<2.20,>=2.19->tf-keras>=2.14.1->tensorflow_hub)\n",
      "  Downloading opt_einsum-3.4.0-py3-none-any.whl.metadata (6.3 kB)\n",
      "Collecting protobuf>=3.19.6 (from tensorflow_hub)\n",
      "  Downloading protobuf-5.29.5-cp310-abi3-win_amd64.whl.metadata (592 bytes)\n",
      "Requirement already satisfied: setuptools in c:\\users\\abcde\\appdata\\local\\programs\\python\\python311\\lib\\site-packages (from tensorflow<2.20,>=2.19->tf-keras>=2.14.1->tensorflow_hub) (65.5.0)\n",
      "Collecting termcolor>=1.1.0 (from tensorflow<2.20,>=2.19->tf-keras>=2.14.1->tensorflow_hub)\n",
      "  Downloading termcolor-3.1.0-py3-none-any.whl.metadata (6.4 kB)\n",
      "Collecting wrapt>=1.11.0 (from tensorflow<2.20,>=2.19->tf-keras>=2.14.1->tensorflow_hub)\n",
      "  Downloading wrapt-1.17.3-cp311-cp311-win_amd64.whl.metadata (6.5 kB)\n",
      "Collecting grpcio<2.0,>=1.24.3 (from tensorflow<2.20,>=2.19->tf-keras>=2.14.1->tensorflow_hub)\n",
      "  Downloading grpcio-1.74.0-cp311-cp311-win_amd64.whl.metadata (4.0 kB)\n",
      "Collecting tensorboard~=2.19.0 (from tensorflow<2.20,>=2.19->tf-keras>=2.14.1->tensorflow_hub)\n",
      "  Downloading tensorboard-2.19.0-py3-none-any.whl.metadata (1.8 kB)\n",
      "Collecting keras>=3.5.0 (from tensorflow<2.20,>=2.19->tf-keras>=2.14.1->tensorflow_hub)\n",
      "  Downloading keras-3.11.2-py3-none-any.whl.metadata (5.9 kB)\n",
      "Collecting numpy>=1.12.0 (from tensorflow_hub)\n",
      "  Downloading numpy-2.1.3-cp311-cp311-win_amd64.whl.metadata (60 kB)\n",
      "Collecting h5py>=3.11.0 (from tensorflow<2.20,>=2.19->tf-keras>=2.14.1->tensorflow_hub)\n",
      "  Downloading h5py-3.14.0-cp311-cp311-win_amd64.whl.metadata (2.7 kB)\n",
      "Collecting ml-dtypes<1.0.0,>=0.5.1 (from tensorflow<2.20,>=2.19->tf-keras>=2.14.1->tensorflow_hub)\n",
      "  Downloading ml_dtypes-0.5.3-cp311-cp311-win_amd64.whl.metadata (9.2 kB)\n",
      "Collecting tensorflow-io-gcs-filesystem>=0.23.1 (from tensorflow<2.20,>=2.19->tf-keras>=2.14.1->tensorflow_hub)\n",
      "  Downloading tensorflow_io_gcs_filesystem-0.31.0-cp311-cp311-win_amd64.whl.metadata (14 kB)\n",
      "Collecting markdown>=2.6.8 (from tensorboard~=2.19.0->tensorflow<2.20,>=2.19->tf-keras>=2.14.1->tensorflow_hub)\n",
      "  Downloading markdown-3.8.2-py3-none-any.whl.metadata (5.1 kB)\n",
      "Collecting tensorboard-data-server<0.8.0,>=0.7.0 (from tensorboard~=2.19.0->tensorflow<2.20,>=2.19->tf-keras>=2.14.1->tensorflow_hub)\n",
      "  Downloading tensorboard_data_server-0.7.2-py3-none-any.whl.metadata (1.1 kB)\n",
      "Collecting werkzeug>=1.0.1 (from tensorboard~=2.19.0->tensorflow<2.20,>=2.19->tf-keras>=2.14.1->tensorflow_hub)\n",
      "  Downloading werkzeug-3.1.3-py3-none-any.whl.metadata (3.7 kB)\n",
      "Collecting wheel<1.0,>=0.23.0 (from astunparse>=1.6.0->tensorflow<2.20,>=2.19->tf-keras>=2.14.1->tensorflow_hub)\n",
      "  Downloading wheel-0.45.1-py3-none-any.whl.metadata (2.3 kB)\n",
      "Collecting rich (from keras>=3.5.0->tensorflow<2.20,>=2.19->tf-keras>=2.14.1->tensorflow_hub)\n",
      "  Downloading rich-14.1.0-py3-none-any.whl.metadata (18 kB)\n",
      "Collecting namex (from keras>=3.5.0->tensorflow<2.20,>=2.19->tf-keras>=2.14.1->tensorflow_hub)\n",
      "  Downloading namex-0.1.0-py3-none-any.whl.metadata (322 bytes)\n",
      "Collecting optree (from keras>=3.5.0->tensorflow<2.20,>=2.19->tf-keras>=2.14.1->tensorflow_hub)\n",
      "  Downloading optree-0.17.0-cp311-cp311-win_amd64.whl.metadata (34 kB)\n",
      "Requirement already satisfied: MarkupSafe>=2.1.1 in c:\\users\\abcde\\appdata\\local\\programs\\python\\python311\\lib\\site-packages (from werkzeug>=1.0.1->tensorboard~=2.19.0->tensorflow<2.20,>=2.19->tf-keras>=2.14.1->tensorflow_hub) (3.0.2)\n",
      "Collecting markdown-it-py>=2.2.0 (from rich->keras>=3.5.0->tensorflow<2.20,>=2.19->tf-keras>=2.14.1->tensorflow_hub)\n",
      "  Downloading markdown_it_py-4.0.0-py3-none-any.whl.metadata (7.3 kB)\n",
      "Requirement already satisfied: pygments<3.0.0,>=2.13.0 in c:\\users\\abcde\\appdata\\roaming\\python\\python311\\site-packages (from rich->keras>=3.5.0->tensorflow<2.20,>=2.19->tf-keras>=2.14.1->tensorflow_hub) (2.19.2)\n",
      "Collecting mdurl~=0.1 (from markdown-it-py>=2.2.0->rich->keras>=3.5.0->tensorflow<2.20,>=2.19->tf-keras>=2.14.1->tensorflow_hub)\n",
      "  Downloading mdurl-0.1.2-py3-none-any.whl.metadata (1.6 kB)\n",
      "Using cached torchaudio-2.8.0-cp311-cp311-win_amd64.whl (2.5 MB)\n",
      "Downloading tensorflow_hub-0.16.1-py2.py3-none-any.whl (30 kB)\n",
      "Downloading tf_keras-2.19.0-py3-none-any.whl (1.7 MB)\n",
      "   ---------------------------------------- 0.0/1.7 MB ? eta -:--:--\n",
      "   ---------------------------------------- 1.7/1.7 MB 47.2 MB/s  0:00:00\n",
      "Downloading tensorflow-2.19.1-cp311-cp311-win_amd64.whl (375.9 MB)\n",
      "   ---------------------------------------- 0.0/375.9 MB ? eta -:--:--\n",
      "   - -------------------------------------- 17.3/375.9 MB 83.9 MB/s eta 0:00:05\n",
      "   --- ------------------------------------ 35.9/375.9 MB 87.8 MB/s eta 0:00:04\n",
      "   ----- ---------------------------------- 55.1/375.9 MB 90.0 MB/s eta 0:00:04\n",
      "   ------- -------------------------------- 75.0/375.9 MB 92.0 MB/s eta 0:00:04\n",
      "   --------- ------------------------------ 93.3/375.9 MB 90.3 MB/s eta 0:00:04\n",
      "   ----------- --------------------------- 111.7/375.9 MB 89.1 MB/s eta 0:00:03\n",
      "   ------------- ------------------------- 127.7/375.9 MB 87.7 MB/s eta 0:00:03\n",
      "   -------------- ------------------------ 144.4/375.9 MB 87.1 MB/s eta 0:00:03\n",
      "   ---------------- ---------------------- 160.7/375.9 MB 86.3 MB/s eta 0:00:03\n",
      "   ------------------- ------------------- 183.8/375.9 MB 88.3 MB/s eta 0:00:03\n",
      "   --------------------- ----------------- 206.6/375.9 MB 89.9 MB/s eta 0:00:02\n",
      "   ----------------------- --------------- 227.5/375.9 MB 90.9 MB/s eta 0:00:02\n",
      "   ------------------------- ------------- 248.3/375.9 MB 91.7 MB/s eta 0:00:02\n",
      "   --------------------------- ----------- 269.2/375.9 MB 92.6 MB/s eta 0:00:02\n",
      "   ----------------------------- --------- 289.1/375.9 MB 94.2 MB/s eta 0:00:01\n",
      "   -------------------------------- ------ 312.0/375.9 MB 94.7 MB/s eta 0:00:01\n",
      "   ---------------------------------- ---- 333.4/375.9 MB 94.2 MB/s eta 0:00:01\n",
      "   ------------------------------------ -- 354.7/375.9 MB 96.3 MB/s eta 0:00:01\n",
      "   --------------------------------------  373.8/375.9 MB 96.9 MB/s eta 0:00:01\n",
      "   --------------------------------------  375.7/375.9 MB 96.9 MB/s eta 0:00:01\n",
      "   --------------------------------------  375.7/375.9 MB 96.9 MB/s eta 0:00:01\n",
      "   ---------------------------------------- 375.9/375.9 MB 82.6 MB/s  0:00:04\n",
      "Downloading grpcio-1.74.0-cp311-cp311-win_amd64.whl (4.5 MB)\n",
      "   ---------------------------------------- 0.0/4.5 MB ? eta -:--:--\n",
      "   ---------------------------------------- 4.5/4.5 MB 68.3 MB/s  0:00:00\n",
      "Downloading ml_dtypes-0.5.3-cp311-cp311-win_amd64.whl (206 kB)\n",
      "Downloading numpy-2.1.3-cp311-cp311-win_amd64.whl (12.9 MB)\n",
      "   ---------------------------------------- 0.0/12.9 MB ? eta -:--:--\n",
      "   ---------------------------------------  12.8/12.9 MB 89.2 MB/s eta 0:00:01\n",
      "   ---------------------------------------- 12.9/12.9 MB 50.4 MB/s  0:00:00\n",
      "Downloading protobuf-5.29.5-cp310-abi3-win_amd64.whl (434 kB)\n",
      "Downloading tensorboard-2.19.0-py3-none-any.whl (5.5 MB)\n",
      "   ---------------------------------------- 0.0/5.5 MB ? eta -:--:--\n",
      "   ---------------------------------------- 5.5/5.5 MB 83.2 MB/s  0:00:00\n",
      "Downloading tensorboard_data_server-0.7.2-py3-none-any.whl (2.4 kB)\n",
      "Downloading absl_py-2.3.1-py3-none-any.whl (135 kB)\n",
      "Downloading astunparse-1.6.3-py2.py3-none-any.whl (12 kB)\n",
      "Downloading wheel-0.45.1-py3-none-any.whl (72 kB)\n",
      "Downloading flatbuffers-25.2.10-py2.py3-none-any.whl (30 kB)\n",
      "Downloading gast-0.6.0-py3-none-any.whl (21 kB)\n",
      "Downloading google_pasta-0.2.0-py3-none-any.whl (57 kB)\n",
      "Downloading h5py-3.14.0-cp311-cp311-win_amd64.whl (2.9 MB)\n",
      "   ---------------------------------------- 0.0/2.9 MB ? eta -:--:--\n",
      "   ---------------------------------------- 2.9/2.9 MB 55.6 MB/s  0:00:00\n",
      "Downloading keras-3.11.2-py3-none-any.whl (1.4 MB)\n",
      "   ---------------------------------------- 0.0/1.4 MB ? eta -:--:--\n",
      "   ---------------------------------------- 1.4/1.4 MB 71.6 MB/s  0:00:00\n",
      "Downloading libclang-18.1.1-py2.py3-none-win_amd64.whl (26.4 MB)\n",
      "   ---------------------------------------- 0.0/26.4 MB ? eta -:--:--\n",
      "   ------------------------------ --------- 19.9/26.4 MB 96.9 MB/s eta 0:00:01\n",
      "   ---------------------------------------- 26.4/26.4 MB 69.7 MB/s  0:00:00\n",
      "Downloading markdown-3.8.2-py3-none-any.whl (106 kB)\n",
      "Downloading opt_einsum-3.4.0-py3-none-any.whl (71 kB)\n",
      "Downloading tensorflow_io_gcs_filesystem-0.31.0-cp311-cp311-win_amd64.whl (1.5 MB)\n",
      "   ---------------------------------------- 0.0/1.5 MB ? eta -:--:--\n",
      "   ---------------------------------------- 1.5/1.5 MB 76.5 MB/s  0:00:00\n",
      "Downloading termcolor-3.1.0-py3-none-any.whl (7.7 kB)\n",
      "Downloading werkzeug-3.1.3-py3-none-any.whl (224 kB)\n",
      "Downloading wrapt-1.17.3-cp311-cp311-win_amd64.whl (38 kB)\n",
      "Downloading namex-0.1.0-py3-none-any.whl (5.9 kB)\n",
      "Downloading optree-0.17.0-cp311-cp311-win_amd64.whl (313 kB)\n",
      "Downloading rich-14.1.0-py3-none-any.whl (243 kB)\n",
      "Downloading markdown_it_py-4.0.0-py3-none-any.whl (87 kB)\n",
      "Downloading mdurl-0.1.2-py3-none-any.whl (10.0 kB)\n",
      "Installing collected packages: namex, libclang, flatbuffers, wrapt, wheel, werkzeug, termcolor, tensorflow-io-gcs-filesystem, tensorboard-data-server, protobuf, optree, opt-einsum, numpy, mdurl, markdown, grpcio, google-pasta, gast, absl-py, tensorboard, ml-dtypes, markdown-it-py, h5py, astunparse, torchaudio, rich, keras, tensorflow, tf-keras, tensorflow_hub\n",
      "\n",
      "   - --------------------------------------  1/30 [libclang]\n",
      "   - --------------------------------------  1/30 [libclang]\n",
      "   - --------------------------------------  1/30 [libclang]\n",
      "   ----- ----------------------------------  4/30 [wheel]\n",
      "   ------ ---------------------------------  5/30 [werkzeug]\n",
      "   ------------ ---------------------------  9/30 [protobuf]\n",
      "   ------------ ---------------------------  9/30 [protobuf]\n",
      "   -------------- ------------------------- 11/30 [opt-einsum]\n",
      "  Attempting uninstall: numpy\n",
      "   -------------- ------------------------- 11/30 [opt-einsum]\n",
      "    Found existing installation: numpy 2.2.6\n",
      "   -------------- ------------------------- 11/30 [opt-einsum]\n",
      "   ---------------- ----------------------- 12/30 [numpy]\n",
      "    Uninstalling numpy-2.2.6:\n",
      "   ---------------- ----------------------- 12/30 [numpy]\n",
      "   ---------------- ----------------------- 12/30 [numpy]\n",
      "   ---------------- ----------------------- 12/30 [numpy]\n",
      "   ---------------- ----------------------- 12/30 [numpy]\n",
      "   ---------------- ----------------------- 12/30 [numpy]\n",
      "   ---------------- ----------------------- 12/30 [numpy]\n",
      "      Successfully uninstalled numpy-2.2.6\n",
      "   ---------------- ----------------------- 12/30 [numpy]\n",
      "   ---------------- ----------------------- 12/30 [numpy]\n",
      "   ---------------- ----------------------- 12/30 [numpy]\n",
      "   ---------------- ----------------------- 12/30 [numpy]\n",
      "   ---------------- ----------------------- 12/30 [numpy]\n",
      "   ---------------- ----------------------- 12/30 [numpy]\n",
      "   ---------------- ----------------------- 12/30 [numpy]\n",
      "   ---------------- ----------------------- 12/30 [numpy]\n",
      "   ---------------- ----------------------- 12/30 [numpy]\n",
      "   ---------------- ----------------------- 12/30 [numpy]\n",
      "   ---------------- ----------------------- 12/30 [numpy]\n",
      "   ---------------- ----------------------- 12/30 [numpy]\n",
      "   ---------------- ----------------------- 12/30 [numpy]\n",
      "   ---------------- ----------------------- 12/30 [numpy]\n",
      "   ---------------- ----------------------- 12/30 [numpy]\n",
      "   ---------------- ----------------------- 12/30 [numpy]\n",
      "   ---------------- ----------------------- 12/30 [numpy]\n",
      "   ---------------- ----------------------- 12/30 [numpy]\n",
      "   ---------------- ----------------------- 12/30 [numpy]\n",
      "   ------------------ --------------------- 14/30 [markdown]\n",
      "   -------------------- ------------------- 15/30 [grpcio]\n",
      "   --------------------- ------------------ 16/30 [google-pasta]\n",
      "   ------------------------ --------------- 18/30 [absl-py]\n",
      "   ------------------------- -------------- 19/30 [tensorboard]\n",
      "   ------------------------- -------------- 19/30 [tensorboard]\n",
      "   ------------------------- -------------- 19/30 [tensorboard]\n",
      "   ------------------------- -------------- 19/30 [tensorboard]\n",
      "   ---------------------------- ----------- 21/30 [markdown-it-py]\n",
      "   ----------------------------- ---------- 22/30 [h5py]\n",
      "   ------------------------------ --------- 23/30 [astunparse]\n",
      "   -------------------------------- ------- 24/30 [torchaudio]\n",
      "   -------------------------------- ------- 24/30 [torchaudio]\n",
      "   --------------------------------- ------ 25/30 [rich]\n",
      "   --------------------------------- ------ 25/30 [rich]\n",
      "   ---------------------------------- ----- 26/30 [keras]\n",
      "   ---------------------------------- ----- 26/30 [keras]\n",
      "   ---------------------------------- ----- 26/30 [keras]\n",
      "   ---------------------------------- ----- 26/30 [keras]\n",
      "   ---------------------------------- ----- 26/30 [keras]\n",
      "   ---------------------------------- ----- 26/30 [keras]\n",
      "   ---------------------------------- ----- 26/30 [keras]\n",
      "   ---------------------------------- ----- 26/30 [keras]\n",
      "   ---------------------------------- ----- 26/30 [keras]\n",
      "   ---------------------------------- ----- 26/30 [keras]\n",
      "   ---------------------------------- ----- 26/30 [keras]\n",
      "   ------------------------------------ --- 27/30 [tensorflow]\n",
      "   ------------------------------------ --- 27/30 [tensorflow]\n",
      "   ------------------------------------ --- 27/30 [tensorflow]\n",
      "   ------------------------------------ --- 27/30 [tensorflow]\n",
      "   ------------------------------------ --- 27/30 [tensorflow]\n",
      "   ------------------------------------ --- 27/30 [tensorflow]\n",
      "   ------------------------------------ --- 27/30 [tensorflow]\n",
      "   ------------------------------------ --- 27/30 [tensorflow]\n",
      "   ------------------------------------ --- 27/30 [tensorflow]\n",
      "   ------------------------------------ --- 27/30 [tensorflow]\n",
      "   ------------------------------------ --- 27/30 [tensorflow]\n",
      "   ------------------------------------ --- 27/30 [tensorflow]\n",
      "   ------------------------------------ --- 27/30 [tensorflow]\n",
      "   ------------------------------------ --- 27/30 [tensorflow]\n",
      "   ------------------------------------ --- 27/30 [tensorflow]\n",
      "   ------------------------------------ --- 27/30 [tensorflow]\n",
      "   ------------------------------------ --- 27/30 [tensorflow]\n",
      "   ------------------------------------ --- 27/30 [tensorflow]\n",
      "   ------------------------------------ --- 27/30 [tensorflow]\n",
      "   ------------------------------------ --- 27/30 [tensorflow]\n",
      "   ------------------------------------ --- 27/30 [tensorflow]\n",
      "   ------------------------------------ --- 27/30 [tensorflow]\n",
      "   ------------------------------------ --- 27/30 [tensorflow]\n",
      "   ------------------------------------ --- 27/30 [tensorflow]\n",
      "   ------------------------------------ --- 27/30 [tensorflow]\n",
      "   ------------------------------------ --- 27/30 [tensorflow]\n",
      "   ------------------------------------ --- 27/30 [tensorflow]\n",
      "   ------------------------------------ --- 27/30 [tensorflow]\n",
      "   ------------------------------------ --- 27/30 [tensorflow]\n",
      "   ------------------------------------ --- 27/30 [tensorflow]\n",
      "   ------------------------------------ --- 27/30 [tensorflow]\n",
      "   ------------------------------------ --- 27/30 [tensorflow]\n",
      "   ------------------------------------ --- 27/30 [tensorflow]\n",
      "   ------------------------------------ --- 27/30 [tensorflow]\n",
      "   ------------------------------------ --- 27/30 [tensorflow]\n",
      "   ------------------------------------ --- 27/30 [tensorflow]\n",
      "   ------------------------------------ --- 27/30 [tensorflow]\n",
      "   ------------------------------------ --- 27/30 [tensorflow]\n",
      "   ------------------------------------ --- 27/30 [tensorflow]\n",
      "   ------------------------------------ --- 27/30 [tensorflow]\n",
      "   ------------------------------------ --- 27/30 [tensorflow]\n",
      "   ------------------------------------ --- 27/30 [tensorflow]\n",
      "   ------------------------------------ --- 27/30 [tensorflow]\n",
      "   ------------------------------------ --- 27/30 [tensorflow]\n",
      "   ------------------------------------ --- 27/30 [tensorflow]\n",
      "   ------------------------------------ --- 27/30 [tensorflow]\n",
      "   ------------------------------------ --- 27/30 [tensorflow]\n",
      "   ------------------------------------ --- 27/30 [tensorflow]\n",
      "   ------------------------------------ --- 27/30 [tensorflow]\n",
      "   ------------------------------------ --- 27/30 [tensorflow]\n",
      "   ------------------------------------ --- 27/30 [tensorflow]\n",
      "   ------------------------------------ --- 27/30 [tensorflow]\n",
      "   ------------------------------------ --- 27/30 [tensorflow]\n",
      "   ------------------------------------ --- 27/30 [tensorflow]\n",
      "   ------------------------------------ --- 27/30 [tensorflow]\n",
      "   ------------------------------------ --- 27/30 [tensorflow]\n",
      "   ------------------------------------ --- 27/30 [tensorflow]\n",
      "   ------------------------------------ --- 27/30 [tensorflow]\n",
      "   ------------------------------------ --- 27/30 [tensorflow]\n",
      "   ------------------------------------ --- 27/30 [tensorflow]\n",
      "   ------------------------------------ --- 27/30 [tensorflow]\n",
      "   ------------------------------------ --- 27/30 [tensorflow]\n",
      "   ------------------------------------ --- 27/30 [tensorflow]\n",
      "   ------------------------------------ --- 27/30 [tensorflow]\n",
      "   ------------------------------------ --- 27/30 [tensorflow]\n",
      "   ------------------------------------ --- 27/30 [tensorflow]\n",
      "   ------------------------------------ --- 27/30 [tensorflow]\n",
      "   ------------------------------------ --- 27/30 [tensorflow]\n",
      "   ------------------------------------ --- 27/30 [tensorflow]\n",
      "   ------------------------------------ --- 27/30 [tensorflow]\n",
      "   ------------------------------------ --- 27/30 [tensorflow]\n",
      "   ------------------------------------ --- 27/30 [tensorflow]\n",
      "   ------------------------------------ --- 27/30 [tensorflow]\n",
      "   ------------------------------------ --- 27/30 [tensorflow]\n",
      "   ------------------------------------ --- 27/30 [tensorflow]\n",
      "   ------------------------------------ --- 27/30 [tensorflow]\n",
      "   ------------------------------------ --- 27/30 [tensorflow]\n",
      "   ------------------------------------ --- 27/30 [tensorflow]\n",
      "   ------------------------------------ --- 27/30 [tensorflow]\n",
      "   ------------------------------------ --- 27/30 [tensorflow]\n",
      "   ------------------------------------ --- 27/30 [tensorflow]\n",
      "   ------------------------------------ --- 27/30 [tensorflow]\n",
      "   ------------------------------------ --- 27/30 [tensorflow]\n",
      "   ------------------------------------ --- 27/30 [tensorflow]\n",
      "   ------------------------------------ --- 27/30 [tensorflow]\n",
      "   ------------------------------------ --- 27/30 [tensorflow]\n",
      "   ------------------------------------ --- 27/30 [tensorflow]\n",
      "   ------------------------------------ --- 27/30 [tensorflow]\n",
      "   ------------------------------------ --- 27/30 [tensorflow]\n",
      "   ------------------------------------ --- 27/30 [tensorflow]\n",
      "   ------------------------------------ --- 27/30 [tensorflow]\n",
      "   ------------------------------------ --- 27/30 [tensorflow]\n",
      "   ------------------------------------ --- 27/30 [tensorflow]\n",
      "   ------------------------------------ --- 27/30 [tensorflow]\n",
      "   ------------------------------------ --- 27/30 [tensorflow]\n",
      "   ------------------------------------ --- 27/30 [tensorflow]\n",
      "   ------------------------------------ --- 27/30 [tensorflow]\n",
      "   ------------------------------------ --- 27/30 [tensorflow]\n",
      "   ------------------------------------ --- 27/30 [tensorflow]\n",
      "   ------------------------------------ --- 27/30 [tensorflow]\n",
      "   ------------------------------------ --- 27/30 [tensorflow]\n",
      "   ------------------------------------ --- 27/30 [tensorflow]\n",
      "   ------------------------------------ --- 27/30 [tensorflow]\n",
      "   ------------------------------------ --- 27/30 [tensorflow]\n",
      "   ------------------------------------ --- 27/30 [tensorflow]\n",
      "   ------------------------------------ --- 27/30 [tensorflow]\n",
      "   ------------------------------------ --- 27/30 [tensorflow]\n",
      "   ------------------------------------ --- 27/30 [tensorflow]\n",
      "   ------------------------------------ --- 27/30 [tensorflow]\n",
      "   ------------------------------------ --- 27/30 [tensorflow]\n",
      "   ------------------------------------ --- 27/30 [tensorflow]\n",
      "   ------------------------------------ --- 27/30 [tensorflow]\n",
      "   ------------------------------------ --- 27/30 [tensorflow]\n",
      "   ------------------------------------ --- 27/30 [tensorflow]\n",
      "   ------------------------------------ --- 27/30 [tensorflow]\n",
      "   ------------------------------------- -- 28/30 [tf-keras]\n",
      "   ------------------------------------- -- 28/30 [tf-keras]\n",
      "   ------------------------------------- -- 28/30 [tf-keras]\n",
      "   ------------------------------------- -- 28/30 [tf-keras]\n",
      "   ------------------------------------- -- 28/30 [tf-keras]\n",
      "   ------------------------------------- -- 28/30 [tf-keras]\n",
      "   ------------------------------------- -- 28/30 [tf-keras]\n",
      "   ------------------------------------- -- 28/30 [tf-keras]\n",
      "   ------------------------------------- -- 28/30 [tf-keras]\n",
      "   ------------------------------------- -- 28/30 [tf-keras]\n",
      "   ------------------------------------- -- 28/30 [tf-keras]\n",
      "   ------------------------------------- -- 28/30 [tf-keras]\n",
      "   ------------------------------------- -- 28/30 [tf-keras]\n",
      "   ---------------------------------------- 30/30 [tensorflow_hub]\n",
      "\n",
      "Successfully installed absl-py-2.3.1 astunparse-1.6.3 flatbuffers-25.2.10 gast-0.6.0 google-pasta-0.2.0 grpcio-1.74.0 h5py-3.14.0 keras-3.11.2 libclang-18.1.1 markdown-3.8.2 markdown-it-py-4.0.0 mdurl-0.1.2 ml-dtypes-0.5.3 namex-0.1.0 numpy-2.1.3 opt-einsum-3.4.0 optree-0.17.0 protobuf-5.29.5 rich-14.1.0 tensorboard-2.19.0 tensorboard-data-server-0.7.2 tensorflow-2.19.1 tensorflow-io-gcs-filesystem-0.31.0 tensorflow_hub-0.16.1 termcolor-3.1.0 tf-keras-2.19.0 torchaudio-2.8.0 werkzeug-3.1.3 wheel-0.45.1 wrapt-1.17.3\n"
     ]
    }
   ],
   "source": [
    "!pip install torch torchaudio tensorflow_hub librosa scikit-learn matplotlib tqdm"
   ]
  },
  {
   "cell_type": "markdown",
   "id": "c6de4a4b",
   "metadata": {},
   "source": [
    "# Data Loader"
   ]
  },
  {
   "cell_type": "code",
   "execution_count": 29,
   "id": "8a434d16",
   "metadata": {},
   "outputs": [],
   "source": [
    "import os\n",
    "import pandas as pd\n",
    "import numpy as np\n",
    "from pathlib import Path\n",
    "import pyedflib\n",
    "import librosa\n",
    "import torch\n",
    "from torch.utils.data import Dataset, DataLoader\n",
    "import torch.nn as nn\n",
    "import torch.optim as optim\n",
    "from sklearn.model_selection import train_test_split\n",
    "from sklearn.metrics import confusion_matrix, ConfusionMatrixDisplay, classification_report\n",
    "import matplotlib.pyplot as plt\n",
    "from tqdm import tqdm\n",
    "import random\n"
   ]
  },
  {
   "cell_type": "code",
   "execution_count": 30,
   "id": "a81b870b",
   "metadata": {},
   "outputs": [],
   "source": [
    "\n",
    "# ==== CONFIG ====\n",
    "CSV_PATH = r\"C:\\V89\\Snore_Apnea_Analyze\\EDF_RML\\data_csv\\respiratory_binary_v2.csv\"\n",
    "EDF_ROOT = Path(r\"C:\\V89\\data2\")\n",
    "TARGET_SR = 16000\n",
    "SEGMENT_DURATION = 5.0\n",
    "BATCH_SIZE = 8\n",
    "EPOCHS = 5\n",
    "SAVE_DIR = r\"C:\\V89\\Snore_Apnea_Analyze\\EDF_RML\\binary_mic_snore_LSTM\"\n",
    "\n",
    "os.makedirs(SAVE_DIR, exist_ok=True)\n",
    "\n",
    "# ==== LOAD DATA ====\n",
    "df = pd.read_csv(CSV_PATH)\n",
    "df['label'] = df['type'].map({'Normal': 0, 'Apnea': 1})  # binary\n",
    "train_df, val_df = train_test_split(df, test_size=0.2, stratify=df['label'], random_state=42)"
   ]
  },
  {
   "cell_type": "code",
   "execution_count": 31,
   "id": "5eef1b99",
   "metadata": {},
   "outputs": [
    {
     "name": "stdout",
     "output_type": "stream",
     "text": [
      "Using device: cuda\n",
      "GPU: NVIDIA GeForce RTX 4060\n",
      "CUDA Version: 11.8\n"
     ]
    }
   ],
   "source": [
    "# ===== Cell 2: Device & seed =====\n",
    "SEED = 42\n",
    "random.seed(SEED)\n",
    "np.random.seed(SEED)\n",
    "torch.manual_seed(SEED)\n",
    "\n",
    "device = torch.device(\"cuda\" if torch.cuda.is_available() else \"cpu\")\n",
    "print(f\"Using device: {device}\")\n",
    "\n",
    "if device.type == \"cuda\":\n",
    "    print(f\"GPU: {torch.cuda.get_device_name()}\")\n",
    "    print(f\"CUDA Version: {torch.version.cuda}\")\n",
    "    torch.backends.cudnn.deterministic = True\n",
    "    torch.backends.cudnn.benchmark = False\n"
   ]
  },
  {
   "cell_type": "markdown",
   "id": "3c2884b3",
   "metadata": {},
   "source": [
    "# Model\n",
    "## VGGish + BiLSTM"
   ]
  },
  {
   "cell_type": "code",
   "execution_count": 53,
   "id": "2eddac2c",
   "metadata": {},
   "outputs": [],
   "source": [
    "import tensorflow_hub as hub\n",
    "import torch\n",
    "import torch.nn as nn\n",
    "\n",
    "# โหลด VGGish จาก TF Hub\n",
    "vggish_url = \"https://tfhub.dev/google/vggish/1\"\n",
    "vggish_model = hub.load(vggish_url)\n",
    "\n",
    "class VGGishFeatureExtractor(nn.Module):\n",
    "    def __init__(self):\n",
    "        super().__init__()\n",
    "    \n",
    "    def forward(self, waveform_batch):\n",
    "        # waveform_batch shape: (batch_size, samples)\n",
    "        import tensorflow as tf\n",
    "        if torch.is_tensor(waveform_batch):\n",
    "            waveform_batch = waveform_batch.detach().cpu().numpy()\n",
    "        \n",
    "        batch_embeddings = []\n",
    "        max_chunks = 0\n",
    "        \n",
    "        # First pass: สร้าง embeddings และหา max chunks\n",
    "        for i in range(waveform_batch.shape[0]):\n",
    "            audio = waveform_batch[i]\n",
    "            \n",
    "            # หั่นเป็น chunks ขนาด ~1 วินาที สำหรับ VGGish\n",
    "            chunk_size = 16000  # 1 second at 16kHz\n",
    "            chunks = []\n",
    "            \n",
    "            for start in range(0, len(audio), chunk_size):\n",
    "                chunk = audio[start:start + chunk_size]\n",
    "                if len(chunk) < chunk_size:\n",
    "                    chunk = np.pad(chunk, (0, chunk_size - len(chunk)))\n",
    "                chunks.append(chunk)\n",
    "            \n",
    "            # VGGish embeddings สำหรับแต่ละ chunk\n",
    "            chunk_embeddings = []\n",
    "            for chunk in chunks:\n",
    "                chunk_tf = tf.convert_to_tensor(chunk.astype(np.float32), dtype=tf.float32)\n",
    "                embedding = vggish_model(chunk_tf)\n",
    "                # VGGish returns (1, 128) so squeeze the first dim\n",
    "                embedding = embedding.numpy().squeeze(0)  # (128,)\n",
    "                chunk_embeddings.append(embedding)\n",
    "            \n",
    "            chunk_embeddings = np.stack(chunk_embeddings)  # (num_chunks, 128)\n",
    "            batch_embeddings.append(chunk_embeddings)\n",
    "            max_chunks = max(max_chunks, chunk_embeddings.shape[0])\n",
    "        \n",
    "        # Second pass: Pad embeddings ให้มีขนาดเท่ากัน\n",
    "        padded_embeddings = []\n",
    "        for emb in batch_embeddings:\n",
    "            if emb.shape[0] < max_chunks:\n",
    "                padding = np.zeros((max_chunks - emb.shape[0], 128))\n",
    "                emb = np.vstack([emb, padding])\n",
    "            padded_embeddings.append(emb)\n",
    "        \n",
    "        embeddings = np.stack(padded_embeddings)  # (B, max_chunks, 128)\n",
    "        return torch.from_numpy(embeddings)\n",
    "\n",
    "vggish_extractor = VGGishFeatureExtractor()"
   ]
  },
  {
   "cell_type": "code",
   "execution_count": 54,
   "id": "abea7856",
   "metadata": {},
   "outputs": [],
   "source": [
    "import pyedflib, librosa, numpy as np\n",
    "from torch.utils.data import Dataset\n",
    "import torch\n",
    "\n",
    "# Dataset: ส่ง raw waveform แต่หั่นเป็น chunks สำหรับ VGGish\n",
    "class SnoreApneaVGGishDataset(Dataset):\n",
    "    def __init__(self, df, edf_root, target_sr=16000, segment_duration=5.0):\n",
    "        self.df = df.reset_index(drop=True)\n",
    "        self.edf_root = Path(edf_root)\n",
    "        self.target_sr = target_sr\n",
    "        self.segment_duration = segment_duration\n",
    "\n",
    "    def __len__(self):\n",
    "        return len(self.df)\n",
    "\n",
    "    def __getitem__(self, idx):\n",
    "        row = self.df.iloc[idx]\n",
    "        edf_path = self.edf_root / f\"{row['patient_id']:08d}-100507[{row['segment_index']+1:03d}].edf\"\n",
    "        label = int(row[\"label\"])\n",
    "\n",
    "        with pyedflib.EdfReader(str(edf_path)) as f:\n",
    "            sig_labels = f.getSignalLabels()\n",
    "            snore_signal = f.readSignal(sig_labels.index(\"Snore\")).astype(np.float32)\n",
    "            sr = f.getSampleFrequency(sig_labels.index(\"Snore\"))\n",
    "\n",
    "        if sr != self.target_sr:\n",
    "            snore_signal = librosa.resample(snore_signal, orig_sr=sr, target_sr=self.target_sr)\n",
    "\n",
    "        samples = int(self.segment_duration * self.target_sr)\n",
    "        if len(snore_signal) < samples:\n",
    "            snore_signal = np.pad(snore_signal, (0, samples - len(snore_signal)))\n",
    "        else:\n",
    "            snore_signal = snore_signal[:samples]\n",
    "\n",
    "        # ส่ง raw waveform ให้ VGGish ประมวลผลเอง\n",
    "        return torch.tensor(snore_signal), torch.tensor(label)"
   ]
  },
  {
   "cell_type": "code",
   "execution_count": 77,
   "id": "5c63724e",
   "metadata": {},
   "outputs": [],
   "source": [
    "class VGGishBiLSTM(nn.Module):\n",
    "    def __init__(self, lstm_hidden=128, num_classes=2):\n",
    "        super().__init__()\n",
    "        self.vggish = vggish_extractor\n",
    "        # VGGish outputs 128-dim embeddings per time chunk\n",
    "        self.lstm = nn.LSTM(128, lstm_hidden, num_layers=2, batch_first=True, bidirectional=True)\n",
    "        self.fc = nn.Linear(lstm_hidden*2, num_classes)\n",
    "\n",
    "    def forward(self, waveform_batch):\n",
    "        # waveform_batch shape: (B, samples) - raw audio\n",
    "        # Get VGGish embeddings (B, num_chunks, 128) - sequential embeddings!\n",
    "        embeddings = self.vggish(waveform_batch).to(device)  # Move back to GPU\n",
    "        \n",
    "        # LSTM processing ผ่าน time sequence ของ VGGish embeddings\n",
    "        lstm_out, _ = self.lstm(embeddings)  # (B, num_chunks, lstm_hidden*2)\n",
    "        \n",
    "        # Global average pooling แทน last output เพื่อใช้ข้อมูลทั้งหมด\n",
    "        avg_features = torch.mean(lstm_out, dim=1)  # (B, lstm_hidden*2)\n",
    "        logits = self.fc(avg_features)  # (B, num_classes)\n",
    "        return logits"
   ]
  },
  {
   "cell_type": "code",
   "execution_count": 56,
   "id": "2321a3ce",
   "metadata": {},
   "outputs": [],
   "source": [
    "from torch.utils.data import DataLoader\n",
    "import torch.optim as optim\n",
    "from tqdm import tqdm\n",
    "\n",
    "train_dataset = SnoreApneaVGGishDataset(train_df, EDF_ROOT)\n",
    "val_dataset = SnoreApneaVGGishDataset(val_df, EDF_ROOT)\n",
    "\n",
    "train_loader = DataLoader(train_dataset, batch_size=2, shuffle=True)  # Further reduced batch size\n",
    "val_loader = DataLoader(val_dataset, batch_size=2)\n"
   ]
  },
  {
   "cell_type": "code",
   "execution_count": 82,
   "id": "f15267f8",
   "metadata": {},
   "outputs": [
    {
     "name": "stdout",
     "output_type": "stream",
     "text": [
      "Class counts: [730 406]\n",
      "Class weights: tensor([0.7781, 1.3990], device='cuda:0')\n"
     ]
    }
   ],
   "source": [
    "from sklearn.utils.class_weight import compute_class_weight\n",
    "\n",
    "# ให้ labels เป็น array [0, 1, 0, 1, ...]\n",
    "labels_np = train_df['label'].values\n",
    "\n",
    "# คำนวณ weight แบบ balanced\n",
    "class_weights = compute_class_weight(\n",
    "    class_weight='balanced',\n",
    "    classes=np.unique(labels_np),\n",
    "    y=labels_np\n",
    ")\n",
    "\n",
    "class_weights_tensor = torch.tensor(class_weights, dtype=torch.float32).to(device)\n",
    "\n",
    "print(\"Class counts:\", np.bincount(labels_np))\n",
    "print(\"Class weights:\", class_weights_tensor)\n"
   ]
  },
  {
   "cell_type": "code",
   "execution_count": 76,
   "id": "76ddddb9",
   "metadata": {},
   "outputs": [
    {
     "name": "stderr",
     "output_type": "stream",
     "text": [
      "Epoch 1:   0%|          | 0/568 [00:00<?, ?it/s]"
     ]
    },
    {
     "name": "stderr",
     "output_type": "stream",
     "text": [
      "Epoch 1: 100%|██████████| 568/568 [09:34<00:00,  1.01s/it]\n",
      "Epoch 1: 100%|██████████| 568/568 [09:34<00:00,  1.01s/it]\n"
     ]
    },
    {
     "name": "stdout",
     "output_type": "stream",
     "text": [
      "Epoch 1 Loss 0.6842 Acc 0.6259\n"
     ]
    },
    {
     "name": "stderr",
     "output_type": "stream",
     "text": [
      "Epoch 2: 100%|██████████| 568/568 [09:44<00:00,  1.03s/it]\n",
      "Epoch 2: 100%|██████████| 568/568 [09:44<00:00,  1.03s/it]\n"
     ]
    },
    {
     "name": "stdout",
     "output_type": "stream",
     "text": [
      "Epoch 2 Loss 0.6563 Acc 0.6435\n"
     ]
    },
    {
     "name": "stderr",
     "output_type": "stream",
     "text": [
      "Epoch 3: 100%|██████████| 568/568 [10:16<00:00,  1.08s/it]\n",
      "Epoch 3: 100%|██████████| 568/568 [10:16<00:00,  1.08s/it]\n"
     ]
    },
    {
     "name": "stdout",
     "output_type": "stream",
     "text": [
      "Epoch 3 Loss 0.5997 Acc 0.6620\n"
     ]
    },
    {
     "name": "stderr",
     "output_type": "stream",
     "text": [
      "Epoch 4: 100%|██████████| 568/568 [10:11<00:00,  1.08s/it]\n",
      "Epoch 4: 100%|██████████| 568/568 [10:11<00:00,  1.08s/it]\n"
     ]
    },
    {
     "name": "stdout",
     "output_type": "stream",
     "text": [
      "Epoch 4 Loss 0.5739 Acc 0.6963\n"
     ]
    },
    {
     "name": "stderr",
     "output_type": "stream",
     "text": [
      "Epoch 5: 100%|██████████| 568/568 [10:11<00:00,  1.08s/it]\n",
      "Epoch 5: 100%|██████████| 568/568 [10:11<00:00,  1.08s/it]\n"
     ]
    },
    {
     "name": "stdout",
     "output_type": "stream",
     "text": [
      "Epoch 5 Loss 0.5577 Acc 0.7069\n"
     ]
    },
    {
     "name": "stderr",
     "output_type": "stream",
     "text": [
      "Epoch 6: 100%|██████████| 568/568 [10:18<00:00,  1.09s/it]\n",
      "Epoch 6: 100%|██████████| 568/568 [10:18<00:00,  1.09s/it]\n"
     ]
    },
    {
     "name": "stdout",
     "output_type": "stream",
     "text": [
      "Epoch 6 Loss 0.5436 Acc 0.7280\n"
     ]
    },
    {
     "name": "stderr",
     "output_type": "stream",
     "text": [
      "Epoch 7: 100%|██████████| 568/568 [10:12<00:00,  1.08s/it]\n",
      "Epoch 7: 100%|██████████| 568/568 [10:12<00:00,  1.08s/it]\n"
     ]
    },
    {
     "name": "stdout",
     "output_type": "stream",
     "text": [
      "Epoch 7 Loss 0.5355 Acc 0.7474\n"
     ]
    },
    {
     "name": "stderr",
     "output_type": "stream",
     "text": [
      "Epoch 8: 100%|██████████| 568/568 [10:13<00:00,  1.08s/it]\n",
      "Epoch 8: 100%|██████████| 568/568 [10:13<00:00,  1.08s/it]\n"
     ]
    },
    {
     "name": "stdout",
     "output_type": "stream",
     "text": [
      "Epoch 8 Loss 0.5218 Acc 0.7526\n"
     ]
    },
    {
     "name": "stderr",
     "output_type": "stream",
     "text": [
      "Epoch 9: 100%|██████████| 568/568 [10:18<00:00,  1.09s/it]"
     ]
    },
    {
     "name": "stdout",
     "output_type": "stream",
     "text": [
      "Epoch 9 Loss 0.5024 Acc 0.7702\n"
     ]
    },
    {
     "name": "stderr",
     "output_type": "stream",
     "text": [
      "\n"
     ]
    }
   ],
   "source": [
    "# ==== 6. Training ====\n",
    "model = VGGishBiLSTM().to(device)\n",
    "criterion = nn.CrossEntropyLoss(weight=class_weights_tensor)\n",
    "optimizer = optim.Adam(model.parameters(), lr=1e-4)\n",
    "\n",
    "for epoch in range(9):\n",
    "    model.train()\n",
    "    correct, total, running_loss = 0, 0, 0\n",
    "    for waveforms, labels in tqdm(train_loader, desc=f\"Epoch {epoch+1}\"):\n",
    "        waveforms, labels = waveforms.to(device), labels.to(device)\n",
    "        \n",
    "        optimizer.zero_grad()\n",
    "        logits = model(waveforms)\n",
    "        loss = criterion(logits, labels)\n",
    "        loss.backward()\n",
    "        optimizer.step()\n",
    "\n",
    "        running_loss += loss.item()\n",
    "        preds = torch.argmax(logits, dim=1)\n",
    "        correct += (preds == labels).sum().item()\n",
    "        total += labels.size(0)\n",
    "\n",
    "    print(f\"Epoch {epoch+1} Loss {running_loss/len(train_loader):.4f} Acc {correct/total:.4f}\")"
   ]
  },
  {
   "cell_type": "code",
   "execution_count": 79,
   "id": "d83f90c2",
   "metadata": {},
   "outputs": [
    {
     "name": "stdout",
     "output_type": "stream",
     "text": [
      "✅ Model weights saved to C:\\\\V89\\\\Snore_Apnea_Analyze\\\\EDF_RML\\\\binary_mic_snore_LSTM\\model_weights_V3.pth\n"
     ]
    }
   ],
   "source": [
    "# ===== Save Model =====\n",
    "MODEL = r\"C:\\\\V89\\\\Snore_Apnea_Analyze\\\\EDF_RML\\\\binary_mic_snore_LSTM\"\n",
    "os.makedirs(MODEL, exist_ok=True)  # สร้างโฟลเดอร์ถ้ายังไม่มี\n",
    "\n",
    "model_path = os.path.join(MODEL, \"model_weights_V3.pth\")\n",
    "torch.save(model.state_dict(), model_path)\n",
    "\n",
    "print(f\"✅ Model weights saved to {model_path}\")\n"
   ]
  },
  {
   "cell_type": "code",
   "execution_count": 80,
   "id": "96cbcf65",
   "metadata": {},
   "outputs": [
    {
     "name": "stderr",
     "output_type": "stream",
     "text": [
      "Evaluating: 100%|██████████| 142/142 [02:21<00:00,  1.01it/s]"
     ]
    },
    {
     "name": "stdout",
     "output_type": "stream",
     "text": [
      "\n",
      "CLASSIFICATION REPORT:\n",
      "========================================\n",
      "              precision    recall  f1-score   support\n",
      "\n",
      "      Normal       0.72      0.99      0.83       182\n",
      "       Apnea       0.97      0.30      0.46       102\n",
      "\n",
      "    accuracy                           0.75       284\n",
      "   macro avg       0.84      0.65      0.65       284\n",
      "weighted avg       0.81      0.75      0.70       284\n",
      "\n"
     ]
    },
    {
     "name": "stderr",
     "output_type": "stream",
     "text": [
      "\n"
     ]
    },
    {
     "data": {
      "image/png": "[encoded data removed]",
      "text/plain": [
       "<Figure size 640x480 with 2 Axes>"
      ]
     },
     "metadata": {},
     "output_type": "display_data"
    }
   ],
   "source": [
    "# ===== Evaluation =====\n",
    "model.eval()\n",
    "y_true, y_pred = [], []\n",
    "\n",
    "with torch.no_grad():\n",
    "    for waveforms, labels in tqdm(val_loader, desc=\"Evaluating\"):\n",
    "        waveforms, labels = waveforms.to(device), labels.to(device)\n",
    "        logits = model(waveforms)\n",
    "        preds = torch.argmax(logits, dim=1)\n",
    "\n",
    "        y_true.extend(labels.cpu().numpy())\n",
    "        y_pred.extend(preds.cpu().numpy())\n",
    "\n",
    "# Classification Report\n",
    "print(\"\\nCLASSIFICATION REPORT:\")\n",
    "print(\"=\"*40)\n",
    "print(classification_report(y_true, y_pred, target_names=[\"Normal\", \"Apnea\"]))\n",
    "\n",
    "# Confusion Matrix\n",
    "cm = confusion_matrix(y_true, y_pred)\n",
    "disp = ConfusionMatrixDisplay(confusion_matrix=cm, display_labels=[\"Normal\", \"Apnea\"])\n",
    "disp.plot(cmap='Blues')\n",
    "plt.title(\"Confusion Matrix\")\n",
    "plt.show()"
   ]
  },
  {
   "cell_type": "code",
   "execution_count": 81,
   "id": "033098c8",
   "metadata": {},
   "outputs": [
    {
     "name": "stderr",
     "output_type": "stream",
     "text": [
      "Evaluating: 100%|██████████| 142/142 [02:20<00:00,  1.01it/s]"
     ]
    },
    {
     "name": "stdout",
     "output_type": "stream",
     "text": [
      "\n",
      "CLASSIFICATION REPORT:\n",
      "========================================\n",
      "              precision    recall  f1-score   support\n",
      "\n",
      "      Normal       0.76      0.99      0.86       182\n",
      "       Apnea       0.98      0.43      0.60       102\n",
      "\n",
      "    accuracy                           0.79       284\n",
      "   macro avg       0.87      0.71      0.73       284\n",
      "weighted avg       0.84      0.79      0.77       284\n",
      "\n"
     ]
    },
    {
     "name": "stderr",
     "output_type": "stream",
     "text": [
      "\n"
     ]
    },
    {
     "data": {
      "image/png": "[encoded data removed]",
      "text/plain": [
       "<Figure size 640x480 with 2 Axes>"
      ]
     },
     "metadata": {},
     "output_type": "display_data"
    }
   ],
   "source": [
    "# ===== Evaluation with custom threshold =====\n",
    "model.eval()\n",
    "y_true, y_pred = [], []\n",
    "\n",
    "threshold = 0.45  # ลด threshold เพื่อเพิ่มโอกาส detect Apnea\n",
    "\n",
    "with torch.no_grad():\n",
    "    for waveforms, labels in tqdm(val_loader, desc=\"Evaluating\"):\n",
    "        waveforms, labels = waveforms.to(device), labels.to(device)\n",
    "        logits = model(waveforms)\n",
    "\n",
    "        # Probabilities for class 1 (Apnea)\n",
    "        probs_apnea = torch.softmax(logits, dim=1)[:, 1]\n",
    "\n",
    "        # Predict Apnea if probability >= threshold\n",
    "        preds = (probs_apnea >= threshold).long()\n",
    "\n",
    "        y_true.extend(labels.cpu().numpy())\n",
    "        y_pred.extend(preds.cpu().numpy())\n",
    "\n",
    "# Classification Report\n",
    "print(\"\\nCLASSIFICATION REPORT:\")\n",
    "print(\"=\"*40)\n",
    "print(classification_report(y_true, y_pred, target_names=[\"Normal\", \"Apnea\"]))\n",
    "\n",
    "# Confusion Matrix\n",
    "cm = confusion_matrix(y_true, y_pred)\n",
    "disp = ConfusionMatrixDisplay(confusion_matrix=cm, display_labels=[\"Normal\", \"Apnea\"])\n",
    "disp.plot(cmap='Blues')\n",
    "plt.title(f\"Confusion Matrix (Threshold={threshold})\")\n",
    "plt.show()"
   ]
  },
  {
   "cell_type": "code",
   "execution_count": 47,
   "id": "c3e7f29b",
   "metadata": {},
   "outputs": [
    {
     "name": "stdout",
     "output_type": "stream",
     "text": [
      "Input waveform shape: torch.Size([2, 80000])\n",
      "VGGish output shape: torch.Size([2, 5, 128])\n",
      "VGGish output ndim: 3\n",
      "✅ Shape is correct for LSTM!\n",
      "LSTM output shape: torch.Size([2, 5, 64])\n"
     ]
    }
   ],
   "source": [
    "# Debug: ตรวจสอบ shapes หลังแก้ไข\n",
    "import torch\n",
    "import numpy as np\n",
    "\n",
    "# Test VGGish extractor\n",
    "sample_waveform = torch.randn(2, 80000)  # 2 samples, 5 seconds each\n",
    "print(f\"Input waveform shape: {sample_waveform.shape}\")\n",
    "\n",
    "vggish_output = vggish_extractor(sample_waveform)\n",
    "print(f\"VGGish output shape: {vggish_output.shape}\")\n",
    "print(f\"VGGish output ndim: {vggish_output.ndim}\")\n",
    "\n",
    "# Test with LSTM\n",
    "if vggish_output.ndim == 3:\n",
    "    print(\"✅ Shape is correct for LSTM!\")\n",
    "    lstm = torch.nn.LSTM(128, 64, batch_first=True)\n",
    "    lstm_out, _ = lstm(vggish_output)\n",
    "    print(f\"LSTM output shape: {lstm_out.shape}\")\n",
    "else:\n",
    "    print(\"❌ Shape is still incorrect\")"
   ]
  },
  {
   "cell_type": "code",
   "execution_count": null,
   "id": "dc748a43",
   "metadata": {},
   "outputs": [],
   "source": []
  }
 ],
 "metadata": {
  "kernelspec": {
   "display_name": ".venv",
   "language": "python",
   "name": "python3"
  },
  "language_info": {
   "codemirror_mode": {
    "name": "ipython",
    "version": 3
   },
   "file_extension": ".py",
   "mimetype": "text/x-python",
   "name": "python",
   "nbconvert_exporter": "python",
   "pygments_lexer": "ipython3",
   "version": "3.11.7"
  }
 },
 "nbformat": 4,
 "nbformat_minor": 5
}
