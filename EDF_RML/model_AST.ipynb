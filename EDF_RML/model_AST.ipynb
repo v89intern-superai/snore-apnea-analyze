{
 "cells": [
  {
   "cell_type": "markdown",
   "id": "385356c4",
   "metadata": {},
   "source": [
    "# Model\n",
    "## AST\n",
    "### use ViT with Spectrogram"
   ]
  },
  {
   "cell_type": "code",
   "execution_count": 2,
   "id": "09da12ae",
   "metadata": {},
   "outputs": [
    {
     "name": "stderr",
     "output_type": "stream",
     "text": [
      "c:\\V89\\.venv\\Lib\\site-packages\\transformers\\utils\\generic.py:441: FutureWarning: `torch.utils._pytree._register_pytree_node` is deprecated. Please use `torch.utils._pytree.register_pytree_node` instead.\n",
      "  _torch_pytree._register_pytree_node(\n",
      "c:\\V89\\.venv\\Lib\\site-packages\\transformers\\utils\\generic.py:309: FutureWarning: `torch.utils._pytree._register_pytree_node` is deprecated. Please use `torch.utils._pytree.register_pytree_node` instead.\n",
      "  _torch_pytree._register_pytree_node(\n",
      "c:\\V89\\.venv\\Lib\\site-packages\\transformers\\utils\\generic.py:309: FutureWarning: `torch.utils._pytree._register_pytree_node` is deprecated. Please use `torch.utils._pytree.register_pytree_node` instead.\n",
      "  _torch_pytree._register_pytree_node(\n"
     ]
    }
   ],
   "source": [
    "import os\n",
    "import pandas as pd\n",
    "import numpy as np\n",
    "from pathlib import Path\n",
    "import pyedflib\n",
    "import librosa\n",
    "import torch\n",
    "from torch.utils.data import Dataset, DataLoader\n",
    "import torch.nn as nn\n",
    "import torch.optim as optim\n",
    "from sklearn.model_selection import train_test_split\n",
    "from sklearn.metrics import confusion_matrix, ConfusionMatrixDisplay, classification_report\n",
    "from sklearn.utils.class_weight import compute_class_weight\n",
    "import matplotlib.pyplot as plt\n",
    "from tqdm import tqdm\n",
    "import random\n",
    "from transformers import ASTModel, ASTConfig"
   ]
  },
  {
   "cell_type": "code",
   "execution_count": 3,
   "id": "59d2e3ef",
   "metadata": {},
   "outputs": [],
   "source": [
    "import torch\n",
    "import torch.nn as nn\n",
    "import torch.nn.functional as F\n",
    "from torch.utils.data import Dataset, DataLoader\n",
    "import pandas as pd\n",
    "import numpy as np\n",
    "import librosa\n",
    "import pyedflib\n",
    "from pathlib import Path\n",
    "from sklearn.model_selection import train_test_split\n",
    "from sklearn.utils.class_weight import compute_class_weight\n",
    "from transformers import ASTModel, ASTConfig, ASTFeatureExtractor\n",
    "import warnings\n",
    "warnings.filterwarnings('ignore')"
   ]
  },
  {
   "cell_type": "code",
   "execution_count": 11,
   "id": "6cd0472d",
   "metadata": {},
   "outputs": [],
   "source": [
    "# ==== CONFIG ====\n",
    "CSV_PATH = r\"C:\\V89\\Snore_Apnea_Analyze\\EDF_RML\\data_csv\\respiratory_binary_v2.csv\"\n",
    "EDF_ROOT = Path(r\"C:\\V89\\data2\")\n",
    "TARGET_SR = 16000\n",
    "SEGMENT_DURATION = 5.0\n",
    "BATCH_SIZE = 4\n",
    "EPOCHS = 5\n",
    "SAVE_DIR = r\"C:\\V89\\model_AST\"\n",
    "os.makedirs(SAVE_DIR, exist_ok=True)"
   ]
  },
  {
   "cell_type": "markdown",
   "id": "77f2ae11",
   "metadata": {},
   "source": [
    "## Data Loader"
   ]
  },
  {
   "cell_type": "code",
   "execution_count": 12,
   "id": "b6fd434a",
   "metadata": {},
   "outputs": [
    {
     "name": "stdout",
     "output_type": "stream",
     "text": [
      "Using device: cuda\n",
      "GPU: NVIDIA GeForce RTX 4060\n"
     ]
    }
   ],
   "source": [
    "# ==== Seed & Device ====\n",
    "SEED = 42\n",
    "random.seed(SEED)\n",
    "np.random.seed(SEED)\n",
    "torch.manual_seed(SEED)\n",
    "\n",
    "device = torch.device(\"cuda\" if torch.cuda.is_available() else \"cpu\")\n",
    "print(f\"Using device: {device}\")\n",
    "if device.type == \"cuda\":\n",
    "    print(f\"GPU: {torch.cuda.get_device_name()}\")"
   ]
  },
  {
   "cell_type": "code",
   "execution_count": 13,
   "id": "d1d27775",
   "metadata": {},
   "outputs": [],
   "source": [
    "class SnoreApneaASTDataset(Dataset):\n",
    "    def __init__(self, df, edf_root, target_sr=16000, segment_duration=5.0):\n",
    "        self.df = df.reset_index(drop=True)\n",
    "        self.edf_root = Path(edf_root)\n",
    "        self.target_sr = target_sr\n",
    "        self.segment_duration = segment_duration\n",
    "\n",
    "    def __len__(self):\n",
    "        return len(self.df)\n",
    "\n",
    "    def __getitem__(self, idx):\n",
    "        row = self.df.iloc[idx]\n",
    "        edf_path = self.edf_root / f\"{row['patient_id']:08d}-100507[{row['segment_index']+1:03d}].edf\"\n",
    "        label = int(row[\"label\"])\n",
    "\n",
    "        with pyedflib.EdfReader(str(edf_path)) as f:\n",
    "            sig_labels = f.getSignalLabels()\n",
    "            snore_signal = f.readSignal(sig_labels.index(\"Snore\")).astype(np.float32)\n",
    "            sr = f.getSampleFrequency(sig_labels.index(\"Snore\"))\n",
    "\n",
    "        if sr != self.target_sr:\n",
    "            snore_signal = librosa.resample(snore_signal, orig_sr=sr, target_sr=self.target_sr)\n",
    "\n",
    "        samples = int(self.segment_duration * self.target_sr)\n",
    "        if len(snore_signal) < samples:\n",
    "            snore_signal = np.pad(snore_signal, (0, samples - len(snore_signal)))\n",
    "        else:\n",
    "            snore_signal = snore_signal[:samples]\n",
    "\n",
    "        return torch.tensor(snore_signal), torch.tensor(label)"
   ]
  },
  {
   "cell_type": "code",
   "execution_count": null,
   "id": "2eb6cd5b",
   "metadata": {},
   "outputs": [],
   "source": [
    "class ASTClassifier(nn.Module):\n",
    "    def __init__(self, num_classes=2):\n",
    "        super().__init__()\n",
    "        model_name = \"  -10-10-0.4593\"\n",
    "        self.feature_extractor = ASTFeatureExtractor.from_pretrained(model_name)\n",
    "        self.ast = ASTModel.from_pretrained(model_name)\n",
    "\n",
    "        hidden_size = self.ast.config.hidden_size\n",
    "        self.classifier = nn.Sequential(\n",
    "            nn.Dropout(0.3),\n",
    "            nn.Linear(hidden_size, 256),\n",
    "            nn.ReLU(),\n",
    "            nn.Dropout(0.2),\n",
    "            nn.Linear(256, num_classes)\n",
    "        )\n",
    "\n",
    "    def forward(self, raw_waveforms):\n",
    "        inputs = self.feature_extractor(\n",
    "            raw_waveforms.cpu().numpy(),\n",
    "            sampling_rate=16000,\n",
    "            return_tensors=\"pt\",\n",
    "            padding=True\n",
    "        ).to(raw_waveforms.device)\n",
    "\n",
    "        outputs = self.ast(**inputs)\n",
    "        pooled = outputs.pooler_output\n",
    "        logits = self.classifier(pooled)\n",
    "        return logits"
   ]
  },
  {
   "cell_type": "code",
   "execution_count": 15,
   "id": "5c2ce83c",
   "metadata": {},
   "outputs": [],
   "source": [
    "# ==== LOAD DATA ====\n",
    "df = pd.read_csv(CSV_PATH)\n",
    "df['label'] = df['type'].map({'Normal': 0, 'Apnea': 1})  # binary\n",
    "train_df, val_df = train_test_split(df, test_size=0.2, stratify=df['label'], random_state=42)"
   ]
  },
  {
   "cell_type": "code",
   "execution_count": 16,
   "id": "44e93e5e",
   "metadata": {},
   "outputs": [
    {
     "name": "stdout",
     "output_type": "stream",
     "text": [
      "Class counts: [730 406]\n",
      "Class weights: tensor([0.7781, 1.3990], device='cuda:0')\n"
     ]
    }
   ],
   "source": [
    "# ==== DATA LOADERS ====\n",
    "train_dataset = SnoreApneaASTDataset(train_df, EDF_ROOT)\n",
    "val_dataset = SnoreApneaASTDataset(val_df, EDF_ROOT)\n",
    "train_loader = DataLoader(train_dataset, batch_size=BATCH_SIZE, shuffle=True)\n",
    "val_loader = DataLoader(val_dataset, batch_size=BATCH_SIZE)\n",
    "\n",
    "# ==== CLASS WEIGHTS ====\n",
    "labels_np = train_df['label'].values\n",
    "class_weights = compute_class_weight(class_weight='balanced', classes=np.unique(labels_np), y=labels_np)\n",
    "class_weights_tensor = torch.tensor(class_weights, dtype=torch.float32).to(device)\n",
    "print(\"Class counts:\", np.bincount(labels_np))\n",
    "print(\"Class weights:\", class_weights_tensor)"
   ]
  },
  {
   "cell_type": "code",
   "execution_count": 17,
   "id": "32114a0d",
   "metadata": {},
   "outputs": [
    {
     "name": "stderr",
     "output_type": "stream",
     "text": [
      "Epoch 1 [Train]: 100%|██████████| 284/284 [1:09:40<00:00, 14.72s/it]\n",
      "Epoch 1 [Train]: 100%|██████████| 284/284 [1:09:40<00:00, 14.72s/it]\n",
      "Epoch 1 [Val]: 100%|██████████| 71/71 [09:43<00:00,  8.21s/it]\n",
      "Epoch 1 [Val]: 100%|██████████| 71/71 [09:43<00:00,  8.21s/it]\n"
     ]
    },
    {
     "name": "stdout",
     "output_type": "stream",
     "text": [
      "Epoch 1/5 Train Loss: 0.5294 Train Acc: 0.7121 Train F1: 0.6875 | Val Loss: 0.4381 Val Acc: 0.8134 Val F1: 0.7610\n"
     ]
    },
    {
     "name": "stderr",
     "output_type": "stream",
     "text": [
      "Epoch 2 [Train]: 100%|██████████| 284/284 [1:10:41<00:00, 14.93s/it]\n",
      "Epoch 2 [Train]: 100%|██████████| 284/284 [1:10:41<00:00, 14.93s/it]\n",
      "Epoch 2 [Val]: 100%|██████████| 71/71 [09:31<00:00,  8.05s/it]\n",
      "Epoch 2 [Val]: 100%|██████████| 71/71 [09:31<00:00,  8.05s/it]\n"
     ]
    },
    {
     "name": "stdout",
     "output_type": "stream",
     "text": [
      "Epoch 2/5 Train Loss: 0.4644 Train Acc: 0.7782 Train F1: 0.7457 | Val Loss: 0.4396 Val Acc: 0.8134 Val F1: 0.7610\n"
     ]
    },
    {
     "name": "stderr",
     "output_type": "stream",
     "text": [
      "Epoch 3 [Train]: 100%|██████████| 284/284 [1:15:03<00:00, 15.86s/it]\n",
      "Epoch 3 [Val]:   0%|          | 0/71 [00:00<?, ?it/s]\n",
      "Epoch 3 [Val]: 100%|██████████| 71/71 [09:55<00:00,  8.39s/it]\n",
      "Epoch 3 [Val]: 100%|██████████| 71/71 [09:55<00:00,  8.39s/it]\n"
     ]
    },
    {
     "name": "stdout",
     "output_type": "stream",
     "text": [
      "Epoch 3/5 Train Loss: 0.4424 Train Acc: 0.7905 Train F1: 0.7531 | Val Loss: 0.4153 Val Acc: 0.8134 Val F1: 0.7610\n"
     ]
    },
    {
     "name": "stderr",
     "output_type": "stream",
     "text": [
      "Epoch 4 [Train]: 100%|██████████| 284/284 [1:12:39<00:00, 15.35s/it]\n",
      "Epoch 4 [Val]:   0%|          | 0/71 [00:00<?, ?it/s]\n",
      "Epoch 4 [Val]: 100%|██████████| 71/71 [11:08<00:00,  9.41s/it]\n",
      "Epoch 4 [Val]: 100%|██████████| 71/71 [11:08<00:00,  9.41s/it]\n"
     ]
    },
    {
     "name": "stdout",
     "output_type": "stream",
     "text": [
      "Epoch 4/5 Train Loss: 0.4407 Train Acc: 0.7870 Train F1: 0.7517 | Val Loss: 0.4358 Val Acc: 0.8134 Val F1: 0.7610\n"
     ]
    },
    {
     "name": "stderr",
     "output_type": "stream",
     "text": [
      "Epoch 5 [Train]: 100%|██████████| 284/284 [1:24:42<00:00, 17.90s/it]\n",
      "Epoch 5 [Train]: 100%|██████████| 284/284 [1:24:42<00:00, 17.90s/it]\n",
      "Epoch 5 [Val]: 100%|██████████| 71/71 [11:16<00:00,  9.53s/it]"
     ]
    },
    {
     "name": "stdout",
     "output_type": "stream",
     "text": [
      "Epoch 5/5 Train Loss: 0.4376 Train Acc: 0.7958 Train F1: 0.7557 | Val Loss: 0.4318 Val Acc: 0.8134 Val F1: 0.7610\n"
     ]
    },
    {
     "name": "stderr",
     "output_type": "stream",
     "text": [
      "\n"
     ]
    }
   ],
   "source": [
    "from sklearn.metrics import f1_score\n",
    "\n",
    "# ==== TRAINING ====\n",
    "model = ASTClassifier().to(device)\n",
    "criterion = nn.CrossEntropyLoss(weight=class_weights_tensor)\n",
    "optimizer = optim.Adam(model.parameters(), lr=1e-5)  # lower LR for transformer\n",
    "\n",
    "for epoch in range(EPOCHS):\n",
    "    # ----- TRAIN -----\n",
    "    model.train()\n",
    "    train_correct, train_total, train_loss = 0, 0, 0\n",
    "    train_true, train_pred = [], []\n",
    "\n",
    "    for waveforms, labels in tqdm(train_loader, desc=f\"Epoch {epoch+1} [Train]\"):\n",
    "        waveforms, labels = waveforms.to(device), labels.to(device)\n",
    "        optimizer.zero_grad()\n",
    "        logits = model(waveforms)\n",
    "        loss = criterion(logits, labels)\n",
    "        loss.backward()\n",
    "        optimizer.step()\n",
    "\n",
    "        # metrics\n",
    "        train_loss += loss.item()\n",
    "        preds = torch.argmax(logits, dim=1)\n",
    "        train_correct += (preds == labels).sum().item()\n",
    "        train_total += labels.size(0)\n",
    "        train_true.extend(labels.cpu().numpy())\n",
    "        train_pred.extend(preds.cpu().numpy())\n",
    "\n",
    "    train_acc = train_correct / train_total\n",
    "    train_f1 = f1_score(train_true, train_pred, average=\"macro\")\n",
    "\n",
    "    # ----- VALIDATION -----\n",
    "    model.eval()\n",
    "    val_correct, val_total, val_loss = 0, 0, 0\n",
    "    val_true, val_pred = [], []\n",
    "\n",
    "    with torch.no_grad():\n",
    "        for waveforms, labels in tqdm(val_loader, desc=f\"Epoch {epoch+1} [Val]\"):\n",
    "            waveforms, labels = waveforms.to(device), labels.to(device)\n",
    "            logits = model(waveforms)\n",
    "            loss = criterion(logits, labels)\n",
    "\n",
    "            # metrics\n",
    "            val_loss += loss.item()\n",
    "            preds = torch.argmax(logits, dim=1)\n",
    "            val_correct += (preds == labels).sum().item()\n",
    "            val_total += labels.size(0)\n",
    "            val_true.extend(labels.cpu().numpy())\n",
    "            val_pred.extend(preds.cpu().numpy())\n",
    "\n",
    "    val_acc = val_correct / val_total\n",
    "    val_f1 = f1_score(val_true, val_pred, average=\"macro\")\n",
    "\n",
    "    # ----- PRINT RESULTS -----\n",
    "    print(f\"Epoch {epoch+1}/{EPOCHS} \"\n",
    "          f\"Train Loss: {train_loss/len(train_loader):.4f} \"\n",
    "          f\"Train Acc: {train_acc:.4f} \"\n",
    "          f\"Train F1: {train_f1:.4f} | \"\n",
    "          f\"Val Loss: {val_loss/len(val_loader):.4f} \"\n",
    "          f\"Val Acc: {val_acc:.4f} \"\n",
    "          f\"Val F1: {val_f1:.4f}\")\n"
   ]
  },
  {
   "cell_type": "code",
   "execution_count": 18,
   "id": "e1afacf1",
   "metadata": {},
   "outputs": [
    {
     "name": "stdout",
     "output_type": "stream",
     "text": [
      "✅ Model weights saved to C:\\V89\\model_AST\\model_weights_AST_V4.pth\n"
     ]
    }
   ],
   "source": [
    "model_path = os.path.join(SAVE_DIR, \"model_weights_AST_V4.pth\")\n",
    "torch.save(model.state_dict(), model_path)\n",
    "print(f\"✅ Model weights saved to {model_path}\")"
   ]
  },
  {
   "cell_type": "markdown",
   "id": "065e04bd",
   "metadata": {},
   "source": [
    "# Eval"
   ]
  },
  {
   "cell_type": "code",
   "execution_count": 19,
   "id": "f8d99dab",
   "metadata": {},
   "outputs": [
    {
     "name": "stderr",
     "output_type": "stream",
     "text": [
      "Evaluating: 100%|██████████| 71/71 [11:26<00:00,  9.67s/it]\n",
      "\n"
     ]
    },
    {
     "name": "stdout",
     "output_type": "stream",
     "text": [
      "\n",
      "CLASSIFICATION REPORT:\n",
      "========================================\n",
      "              precision    recall  f1-score   support\n",
      "\n",
      "      Normal       0.77      1.00      0.87       182\n",
      "       Apnea       1.00      0.48      0.65       102\n",
      "\n",
      "    accuracy                           0.81       284\n",
      "   macro avg       0.89      0.74      0.76       284\n",
      "weighted avg       0.86      0.81      0.79       284\n",
      "\n"
     ]
    },
    {
     "data": {
      "image/png": "[encoded data removed]",
      "text/plain": [
       "<Figure size 640x480 with 2 Axes>"
      ]
     },
     "metadata": {},
     "output_type": "display_data"
    }
   ],
   "source": [
    "model.eval()\n",
    "y_true, y_pred = [], []\n",
    "with torch.no_grad():\n",
    "    for waveforms, labels in tqdm(val_loader, desc=\"Evaluating\"):\n",
    "        waveforms, labels = waveforms.to(device), labels.to(device)\n",
    "        logits = model(waveforms)\n",
    "        preds = torch.argmax(logits, dim=1)\n",
    "        y_true.extend(labels.cpu().numpy())\n",
    "        y_pred.extend(preds.cpu().numpy())\n",
    "\n",
    "print(\"\\nCLASSIFICATION REPORT:\")\n",
    "print(\"=\"*40)\n",
    "print(classification_report(y_true, y_pred, target_names=[\"Normal\", \"Apnea\"]))\n",
    "\n",
    "cm = confusion_matrix(y_true, y_pred)\n",
    "disp = ConfusionMatrixDisplay(confusion_matrix=cm, display_labels=[\"Normal\", \"Apnea\"])\n",
    "disp.plot(cmap='Blues')\n",
    "plt.title(\"Confusion Matrix\")\n",
    "plt.show()"
   ]
  },
  {
   "cell_type": "code",
   "execution_count": 21,
   "id": "617f0934",
   "metadata": {},
   "outputs": [
    {
     "name": "stderr",
     "output_type": "stream",
     "text": [
      "Evaluating: 100%|██████████| 71/71 [10:46<00:00,  9.11s/it]"
     ]
    },
    {
     "name": "stdout",
     "output_type": "stream",
     "text": [
      "\n",
      "CLASSIFICATION REPORT:\n",
      "========================================\n",
      "              precision    recall  f1-score   support\n",
      "\n",
      "      Normal       0.77      1.00      0.87       182\n",
      "       Apnea       1.00      0.48      0.65       102\n",
      "\n",
      "    accuracy                           0.81       284\n",
      "   macro avg       0.89      0.74      0.76       284\n",
      "weighted avg       0.86      0.81      0.79       284\n",
      "\n"
     ]
    },
    {
     "name": "stderr",
     "output_type": "stream",
     "text": [
      "\n"
     ]
    },
    {
     "data": {
      "image/png": "[encoded data removed]",
      "text/plain": [
       "<Figure size 640x480 with 2 Axes>"
      ]
     },
     "metadata": {},
     "output_type": "display_data"
    }
   ],
   "source": [
    "model.eval()\n",
    "y_true, y_pred = [], []\n",
    "threshold = 0.4  # <<=== เปลี่ยนค่า threshold ได้ตรงนี้\n",
    "\n",
    "with torch.no_grad():\n",
    "    for waveforms, labels in tqdm(val_loader, desc=\"Evaluating\"):\n",
    "        waveforms, labels = waveforms.to(device), labels.to(device)\n",
    "        logits = model(waveforms)\n",
    "        \n",
    "        # ถ้าเป็น binary classification\n",
    "        probs = torch.softmax(logits, dim=1)[:, 1]  # ความน่าจะเป็น class \"Apnea\"\n",
    "        preds = (probs >= threshold).long()  # กำหนด threshold เอง\n",
    "\n",
    "        y_true.extend(labels.cpu().numpy())\n",
    "        y_pred.extend(preds.cpu().numpy())\n",
    "\n",
    "print(\"\\nCLASSIFICATION REPORT:\")\n",
    "print(\"=\"*40)\n",
    "print(classification_report(y_true, y_pred, target_names=[\"Normal\", \"Apnea\"]))\n",
    "\n",
    "cm = confusion_matrix(y_true, y_pred)\n",
    "disp = ConfusionMatrixDisplay(confusion_matrix=cm, display_labels=[\"Normal\", \"Apnea\"])\n",
    "disp.plot(cmap='Blues')\n",
    "plt.title(f\"Confusion Matrix (threshold={threshold})\")\n",
    "plt.show()\n"
   ]
  },
  {
   "cell_type": "code",
   "execution_count": null,
   "id": "befbcd0f",
   "metadata": {},
   "outputs": [],
   "source": []
  }
 ],
 "metadata": {
  "kernelspec": {
   "display_name": ".venv",
   "language": "python",
   "name": "python3"
  },
  "language_info": {
   "codemirror_mode": {
    "name": "ipython",
    "version": 3
   },
   "file_extension": ".py",
   "mimetype": "text/x-python",
   "name": "python",
   "nbconvert_exporter": "python",
   "pygments_lexer": "ipython3",
   "version": "3.11.7"
  }
 },
 "nbformat": 4,
 "nbformat_minor": 5
}
