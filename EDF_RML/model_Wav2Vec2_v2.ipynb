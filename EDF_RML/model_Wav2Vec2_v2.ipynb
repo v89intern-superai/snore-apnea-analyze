{
 "cells": [
  {
   "cell_type": "markdown",
   "id": "abc1befd",
   "metadata": {},
   "source": [
    "# Wav2Vec2\n",
    "### Improve model"
   ]
  },
  {
   "cell_type": "code",
   "execution_count": 4,
   "id": "8f3d197c",
   "metadata": {},
   "outputs": [],
   "source": [
    "import pandas as pd"
   ]
  },
  {
   "cell_type": "code",
   "execution_count": 5,
   "id": "eafd52b0",
   "metadata": {},
   "outputs": [],
   "source": [
    "df = pd.read_csv(r\"C:\\V89\\Snore_Apnea_Analyze\\EDF_RML\\data_csv\\use_test\\each_person_csv\\00001010.csv\")"
   ]
  },
  {
   "cell_type": "code",
   "execution_count": 7,
   "id": "9df214c0",
   "metadata": {},
   "outputs": [
    {
     "data": {
      "text/plain": [
       "type\n",
       "Bradycardia             302\n",
       "Arousal                 287\n",
       "ObstructiveApnea        246\n",
       "RelativeDesaturation    227\n",
       "LongRR                  198\n",
       "Snore                   186\n",
       "PttDrop                 135\n",
       "ChannelFail             126\n",
       "Tachycardia              42\n",
       "Gain                     30\n",
       "Hypopnea                 26\n",
       "MixedApnea                5\n",
       "CentralApnea              2\n",
       "Name: count, dtype: int64"
      ]
     },
     "execution_count": 7,
     "metadata": {},
     "output_type": "execute_result"
    }
   ],
   "source": [
    "df['type'].value_counts()"
   ]
  },
  {
   "cell_type": "code",
   "execution_count": null,
   "id": "cd5dfa1a",
   "metadata": {},
   "outputs": [],
   "source": []
  }
 ],
 "metadata": {
  "kernelspec": {
   "display_name": ".venv",
   "language": "python",
   "name": "python3"
  },
  "language_info": {
   "codemirror_mode": {
    "name": "ipython",
    "version": 3
   },
   "file_extension": ".py",
   "mimetype": "text/x-python",
   "name": "python",
   "nbconvert_exporter": "python",
   "pygments_lexer": "ipython3",
   "version": "3.11.7"
  }
 },
 "nbformat": 4,
 "nbformat_minor": 5
}
