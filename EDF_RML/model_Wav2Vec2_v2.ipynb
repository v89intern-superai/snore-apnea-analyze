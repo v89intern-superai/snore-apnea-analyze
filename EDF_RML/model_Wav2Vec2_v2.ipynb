{
 "cells": [
  {
   "cell_type": "markdown",
   "id": "abc1befd",
   "metadata": {},
   "source": [
    "# Wav2Vec2\n",
    "### Improve model"
   ]
  },
  {
   "cell_type": "markdown",
   "id": "a07be6b8",
   "metadata": {},
   "source": []
  }
 ],
 "metadata": {
  "language_info": {
   "name": "python"
  }
 },
 "nbformat": 4,
 "nbformat_minor": 5
}
