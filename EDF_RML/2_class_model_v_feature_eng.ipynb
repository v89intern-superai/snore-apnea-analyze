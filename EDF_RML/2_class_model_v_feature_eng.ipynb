{
 "cells": [
  {
   "cell_type": "markdown",
   "id": "cfb0caf9",
   "metadata": {},
   "source": [
    "# Delete CentralApnea"
   ]
  },
  {
   "cell_type": "code",
   "execution_count": 4,
   "id": "76fac2f8",
   "metadata": {},
   "outputs": [],
   "source": [
    "import pandas as pd"
   ]
  },
  {
   "cell_type": "code",
   "execution_count": 5,
   "id": "a44e8257",
   "metadata": {},
   "outputs": [],
   "source": [
    "df = pd.read_csv(r\"C:\\V89\\Snore_Apnea_Analyze\\EDF_RML\\data_csv\\respiratory_plus_normal.csv\")"
   ]
  },
  {
   "cell_type": "code",
   "execution_count": 7,
   "id": "5ecf10f0",
   "metadata": {},
   "outputs": [
    {
     "data": {
      "text/plain": [
       "type\n",
       "Normal              912\n",
       "ObstructiveApnea    649\n",
       "Hypopnea            398\n",
       "MixedApnea           72\n",
       "CentralApnea         38\n",
       "Name: count, dtype: int64"
      ]
     },
     "execution_count": 7,
     "metadata": {},
     "output_type": "execute_result"
    }
   ],
   "source": [
    "df['type'].value_counts()"
   ]
  },
  {
   "cell_type": "code",
   "execution_count": 8,
   "id": "45b3c222",
   "metadata": {},
   "outputs": [
    {
     "name": "stdout",
     "output_type": "stream",
     "text": [
      "type\n",
      "Normal          912\n",
      "Hypopnea        398\n",
      "MixedApnea       72\n",
      "CentralApnea     38\n",
      "Name: count, dtype: int64\n"
     ]
    }
   ],
   "source": [
    "import pandas as pd\n",
    "\n",
    "# Load your CSV\n",
    "df = pd.read_csv(r\"C:\\V89\\Snore_Apnea_Analyze\\EDF_RML\\data_csv\\respiratory_plus_normal.csv\")\n",
    "\n",
    "# Remove rows where 'type' is 'ObstructiveApnea'\n",
    "df_filtered = df[df['type'] != 'ObstructiveApnea']\n",
    "\n",
    "# Save the new CSV\n",
    "df_filtered.to_csv(r\"C:\\V89\\Snore_Apnea_Analyze\\EDF_RML\\data_csv\\respiratory_without_obstructive.csv\", index=False)\n",
    "\n",
    "# Check result\n",
    "print(df_filtered['type'].value_counts())\n"
   ]
  },
  {
   "cell_type": "code",
   "execution_count": 9,
   "id": "a6563f4e",
   "metadata": {},
   "outputs": [
    {
     "name": "stdout",
     "output_type": "stream",
     "text": [
      "type\n",
      "Normal    912\n",
      "Apnea     508\n",
      "Name: count, dtype: int64\n"
     ]
    }
   ],
   "source": [
    "import pandas as pd\n",
    "\n",
    "# Load CSV (ใช้ไฟล์ที่ตัด ObstructiveApnea ออกแล้ว)\n",
    "df = pd.read_csv(r\"C:\\V89\\Snore_Apnea_Analyze\\EDF_RML\\data_csv\\respiratory_without_obstructive.csv\")\n",
    "\n",
    "# รวมทุก class ที่ไม่ใช่ Normal ให้เป็น \"Apnea\"\n",
    "df['type'] = df['type'].apply(lambda x: 'Normal' if x == 'Normal' else 'Apnea')\n",
    "\n",
    "# Save เป็นไฟล์ใหม่\n",
    "df.to_csv(r\"C:\\V89\\Snore_Apnea_Analyze\\EDF_RML\\data_csv\\respiratory_binary_v2.csv\", index=False)\n",
    "\n",
    "# ตรวจสอบจำนวน class\n",
    "print(df['type'].value_counts())\n"
   ]
  },
  {
   "cell_type": "markdown",
   "id": "517d54a1",
   "metadata": {},
   "source": [
    "# Model"
   ]
  },
  {
   "cell_type": "code",
   "execution_count": 40,
   "id": "18ba9dac",
   "metadata": {},
   "outputs": [
    {
     "name": "stdout",
     "output_type": "stream",
     "text": [
      "✅ All libraries imported successfully!\n"
     ]
    }
   ],
   "source": [
    "# ===== Cell 1: Import libraries =====\n",
    "import os, json, time, random, re\n",
    "from pathlib import Path\n",
    "import numpy as np\n",
    "import pandas as pd\n",
    "\n",
    "import torch\n",
    "import torch.nn as nn\n",
    "from torch.utils.data import Dataset, DataLoader, Subset\n",
    "from tqdm.auto import tqdm\n",
    "import matplotlib.pyplot as plt\n",
    "\n",
    "try:\n",
    "    import torchaudio\n",
    "    HAVE_TA = True\n",
    "except Exception:\n",
    "    HAVE_TA = False\n",
    "    print(\"[WARN] torchaudio not found, augmentation disabled.\")\n",
    "\n",
    "import pyedflib\n",
    "from sklearn.preprocessing import LabelEncoder\n",
    "from sklearn.metrics import (\n",
    "    accuracy_score, f1_score, precision_recall_fscore_support,\n",
    "    classification_report, confusion_matrix, roc_auc_score,\n",
    "    log_loss, average_precision_score\n",
    ")\n",
    "\n",
    "from transformers import (\n",
    "    Wav2Vec2Processor, Wav2Vec2ForSequenceClassification,\n",
    "    get_linear_schedule_with_warmup\n",
    ")\n",
    "\n",
    "print(\"✅ All libraries imported successfully!\")\n"
   ]
  },
  {
   "cell_type": "code",
   "execution_count": 41,
   "id": "bfbf3d11",
   "metadata": {},
   "outputs": [
    {
     "name": "stdout",
     "output_type": "stream",
     "text": [
      "Using device: cuda\n",
      "GPU: NVIDIA GeForce RTX 4060\n",
      "CUDA Version: 11.8\n"
     ]
    }
   ],
   "source": [
    "# ===== Cell 2: Device & seed =====\n",
    "SEED = 42\n",
    "random.seed(SEED)\n",
    "np.random.seed(SEED)\n",
    "torch.manual_seed(SEED)\n",
    "\n",
    "device = torch.device(\"cuda\" if torch.cuda.is_available() else \"cpu\")\n",
    "print(f\"Using device: {device}\")\n",
    "\n",
    "if device.type == \"cuda\":\n",
    "    print(f\"GPU: {torch.cuda.get_device_name()}\")\n",
    "    print(f\"CUDA Version: {torch.version.cuda}\")\n",
    "    torch.backends.cudnn.deterministic = True\n",
    "    torch.backends.cudnn.benchmark = False\n"
   ]
  },
  {
   "cell_type": "code",
   "execution_count": 42,
   "id": "c6168cb6",
   "metadata": {},
   "outputs": [],
   "source": [
    "# ===== Cell 3: Load CSV and convert to binary classes =====\n",
    "df = pd.read_csv(r\"C:\\V89\\Snore_Apnea_Analyze\\EDF_RML\\data_csv\\respiratory_binary_v2.csv\")\n",
    "EDF_ROOT = r\"C:\\V89\\data2\""
   ]
  },
  {
   "cell_type": "code",
   "execution_count": 43,
   "id": "728937f2",
   "metadata": {},
   "outputs": [
    {
     "data": {
      "text/plain": [
       "patient_id\n",
       "995     374\n",
       "999     286\n",
       "1008    222\n",
       "1006    217\n",
       "1000    205\n",
       "1089    116\n",
       "Name: count, dtype: int64"
      ]
     },
     "execution_count": 43,
     "metadata": {},
     "output_type": "execute_result"
    }
   ],
   "source": [
    "df['patient_id'].value_counts()"
   ]
  },
  {
   "cell_type": "code",
   "execution_count": null,
   "id": "a0edf2f4",
   "metadata": {},
   "outputs": [],
   "source": []
  },
  {
   "cell_type": "code",
   "execution_count": 83,
   "id": "b65bdcd8",
   "metadata": {},
   "outputs": [
    {
     "name": "stdout",
     "output_type": "stream",
     "text": [
      "type\n",
      "Normal    912\n",
      "Apnea     508\n",
      "Name: count, dtype: int64\n",
      "Label mapping: {'Apnea': np.int64(0), 'Normal': np.int64(1)}\n"
     ]
    }
   ],
   "source": [
    "from sklearn.preprocessing import LabelEncoder\n",
    "\n",
    "# สมมติ df ตอนนี้มี column 'type' = ['Normal', 'Apnea', ...]\n",
    "label_encoder = LabelEncoder()\n",
    "df['label'] = label_encoder.fit_transform(df['type'])\n",
    "\n",
    "print(df['type'].value_counts())\n",
    "print(\"Label mapping:\", dict(zip(label_encoder.classes_, label_encoder.transform(label_encoder.classes_))))\n"
   ]
  },
  {
   "cell_type": "code",
   "execution_count": 89,
   "id": "273c5adb",
   "metadata": {},
   "outputs": [],
   "source": [
    "class SnoreApneaDataset(Dataset):\n",
    "    def __init__(self, dataframe, processor, edf_root, target_sr=16000):\n",
    "        self.df = dataframe.reset_index(drop=True)\n",
    "        self.processor = processor\n",
    "        self.edf_root = Path(edf_root)\n",
    "        self.target_sr = target_sr\n",
    "\n",
    "    def __len__(self):\n",
    "        return len(self.df)\n",
    "\n",
    "    def __getitem__(self, idx):\n",
    "        row = self.df.iloc[idx]\n",
    "\n",
    "        # สร้างชื่อไฟล์ EDF จาก patient_id และ segment_index\n",
    "        edf_filename = f\"{row['patient_id']:08d}-100507[{row['segment_index']+1:03d}].edf\"\n",
    "        edf_path = self.edf_root / edf_filename\n",
    "\n",
    "        label = row['label']\n",
    "\n",
    "        with pyedflib.EdfReader(str(edf_path)) as f:\n",
    "            signal_labels = f.getSignalLabels()\n",
    "\n",
    "            # ดึง Mic และ Snore channels ถ้ามี\n",
    "            channels_to_load = []\n",
    "            for ch_name in [\"Mic\", \"Snore\"]:\n",
    "                if ch_name in signal_labels:\n",
    "                    ch_data = f.readSignal(signal_labels.index(ch_name)).astype(np.float32)\n",
    "                    channels_to_load.append(ch_data)\n",
    "\n",
    "            if not channels_to_load:\n",
    "                raise ValueError(f\"No 'Mic' or 'Snore' channel found in {edf_path}\")\n",
    "\n",
    "            # ทำให้ทุก channel ยาวเท่ากัน (ตัดให้สั้นเท่าตัวที่สั้นที่สุด)\n",
    "            min_len = min(len(ch) for ch in channels_to_load)\n",
    "            channels_to_load = [ch[:min_len] for ch in channels_to_load]\n",
    "\n",
    "            # รวมเป็น mono\n",
    "            waveform = np.mean(np.stack(channels_to_load, axis=0), axis=0)\n",
    "\n",
    "            # Resample ถ้าจำเป็น\n",
    "            orig_freq = f.getSampleFrequency(\n",
    "                signal_labels.index(\"Mic\" if \"Mic\" in signal_labels else \"Snore\")\n",
    "            )\n",
    "\n",
    "        waveform = torch.tensor(waveform, dtype=torch.float32)\n",
    "\n",
    "        if HAVE_TA and orig_freq != self.target_sr:\n",
    "            waveform = torchaudio.transforms.Resample(\n",
    "                orig_freq=orig_freq,\n",
    "                new_freq=self.target_sr\n",
    "            )(waveform)\n",
    "\n",
    "        # จำกัดความยาวสูงสุด 5 วินาที และ pad/truncate ให้เท่ากัน\n",
    "        MAX_INPUT_LENGTH = 16000 * 5  # 5 วินาที\n",
    "        inputs = self.processor(\n",
    "            waveform.numpy(),\n",
    "            sampling_rate=self.target_sr,\n",
    "            return_tensors=\"pt\",\n",
    "            padding=\"max_length\",\n",
    "            truncation=True,\n",
    "            max_length=MAX_INPUT_LENGTH,\n",
    "            return_attention_mask=True\n",
    "        )\n",
    "\n",
    "        input_values = inputs.input_values.squeeze(0)\n",
    "        attention_mask = (\n",
    "            inputs.attention_mask.squeeze(0)\n",
    "            if \"attention_mask\" in inputs\n",
    "            else torch.ones_like(input_values)\n",
    "        )\n",
    "\n",
    "        return {\n",
    "            \"input_values\": input_values,\n",
    "            \"attention_mask\": attention_mask,\n",
    "            \"labels\": torch.tensor(label, dtype=torch.long),\n",
    "        }\n"
   ]
  },
  {
   "cell_type": "code",
   "execution_count": 90,
   "id": "77f23558",
   "metadata": {},
   "outputs": [
    {
     "name": "stderr",
     "output_type": "stream",
     "text": [
      "c:\\V89\\.venv\\Lib\\site-packages\\transformers\\configuration_utils.py:381: UserWarning: Passing `gradient_checkpointing` to a config initialization is deprecated and will be removed in v5 Transformers. Using `model.gradient_checkpointing_enable()` instead, or if you are using the `Trainer` API, pass `gradient_checkpointing=True` in your `TrainingArguments`.\n",
      "  warnings.warn(\n"
     ]
    }
   ],
   "source": [
    "# ===== Cell 5: Prepare processor & dataloaders =====\n",
    "processor = Wav2Vec2Processor.from_pretrained(\"facebook/wav2vec2-base\")\n",
    "train_df = df.sample(frac=0.8, random_state=SEED)\n",
    "val_df = df.drop(train_df.index)\n",
    "\n",
    "train_dataset = SnoreApneaDataset(train_df, processor, EDF_ROOT)\n",
    "val_dataset = SnoreApneaDataset(val_df, processor, EDF_ROOT)\n",
    "\n",
    "train_loader = DataLoader(train_dataset, batch_size=8, shuffle=True)\n",
    "val_loader = DataLoader(val_dataset, batch_size=8)\n"
   ]
  },
  {
   "cell_type": "code",
   "execution_count": 91,
   "id": "e68964ee",
   "metadata": {},
   "outputs": [
    {
     "name": "stderr",
     "output_type": "stream",
     "text": [
      "Some weights of Wav2Vec2ForSequenceClassification were not initialized from the model checkpoint at facebook/wav2vec2-base and are newly initialized: ['wav2vec2.encoder.pos_conv_embed.conv.parametrizations.weight.original0', 'projector.weight', 'classifier.weight', 'wav2vec2.encoder.pos_conv_embed.conv.parametrizations.weight.original1', 'classifier.bias', 'projector.bias']\n",
      "You should probably TRAIN this model on a down-stream task to be able to use it for predictions and inference.\n"
     ]
    }
   ],
   "source": [
    "# ===== Cell 6: Model initialization =====\n",
    "model = Wav2Vec2ForSequenceClassification.from_pretrained(\n",
    "    \"facebook/wav2vec2-base\",\n",
    "    num_labels=2  # Only 2 classes now\n",
    ").to(device)\n",
    "\n",
    "optimizer = torch.optim.AdamW(model.parameters(), lr=1e-5)\n",
    "total_steps = len(train_loader) * 5  # 5 epochs\n",
    "scheduler = get_linear_schedule_with_warmup(optimizer, num_warmup_steps=0, num_training_steps=total_steps)\n",
    "loss_fn = nn.CrossEntropyLoss()\n"
   ]
  },
  {
   "cell_type": "code",
   "execution_count": null,
   "id": "38831e44",
   "metadata": {},
   "outputs": [
    {
     "data": {
      "application/vnd.jupyter.widget-view+json": {
       "model_id": "d60ad28144ae4c73a2b2fdc0b38f4560",
       "version_major": 2,
       "version_minor": 0
      },
      "text/plain": [
       "Epoch 1:   0%|          | 0/142 [00:00<?, ?it/s]"
      ]
     },
     "metadata": {},
     "output_type": "display_data"
    },
    {
     "name": "stderr",
     "output_type": "stream",
     "text": [
      "c:\\V89\\.venv\\Lib\\site-packages\\torch\\_dynamo\\eval_frame.py:838: UserWarning: torch.utils.checkpoint: the use_reentrant parameter should be passed explicitly. In version 2.5 we will raise an exception if use_reentrant is not passed. use_reentrant=False is recommended, but if you need to preserve the current default behavior, you can pass use_reentrant=True. Refer to docs for more details on the differences between the two variants.\n",
      "  return fn(*args, **kwargs)\n"
     ]
    },
    {
     "name": "stdout",
     "output_type": "stream",
     "text": [
      "Epoch 1 - Train Loss: 0.6584 - Train Acc: 0.6294\n"
     ]
    },
    {
     "data": {
      "application/vnd.jupyter.widget-view+json": {
       "model_id": "ad3f040a1a364f86a1de9fd57685f066",
       "version_major": 2,
       "version_minor": 0
      },
      "text/plain": [
       "Epoch 2:   0%|          | 0/142 [00:00<?, ?it/s]"
      ]
     },
     "metadata": {},
     "output_type": "display_data"
    }
   ],
   "source": [
    "# ===== Cell 7: Training loop with accuracy =====\n",
    "for epoch in range(3):\n",
    "    model.train()\n",
    "    train_loss = 0\n",
    "    correct = 0\n",
    "    total = 0\n",
    "\n",
    "    for batch in tqdm(train_loader, desc=f\"Epoch {epoch+1}\"):\n",
    "        optimizer.zero_grad()\n",
    "        input_values = batch['input_values'].to(device)\n",
    "        attention_mask = batch['attention_mask'].to(device)\n",
    "        labels = batch['labels'].to(device)\n",
    "\n",
    "        outputs = model(input_values, attention_mask=attention_mask, labels=labels)\n",
    "        loss = outputs.loss\n",
    "        loss.backward()\n",
    "        optimizer.step()\n",
    "        scheduler.step()\n",
    "\n",
    "        train_loss += loss.item()\n",
    "\n",
    "        # Accuracy calculation\n",
    "        preds = torch.argmax(outputs.logits, dim=-1)\n",
    "        correct += (preds == labels).sum().item()\n",
    "        total += labels.size(0)\n",
    "\n",
    "    epoch_loss = train_loss / len(train_loader)\n",
    "    epoch_acc = correct / total\n",
    "\n",
    "    print(f\"Epoch {epoch+1} - Train Loss: {epoch_loss:.4f} - Train Acc: {epoch_acc:.4f}\")\n"
   ]
  },
  {
   "cell_type": "markdown",
   "id": "293112df",
   "metadata": {},
   "source": [
    "## Eval"
   ]
  },
  {
   "cell_type": "code",
   "execution_count": 88,
   "id": "f3686c25",
   "metadata": {},
   "outputs": [
    {
     "name": "stdout",
     "output_type": "stream",
     "text": [
      "BINARY CLASSIFICATION REPORT:\n",
      "========================================\n",
      "              precision    recall  f1-score   support\n",
      "\n",
      "       Apnea       0.00      0.00      0.00        91\n",
      "      Normal       0.68      1.00      0.81       193\n",
      "\n",
      "    accuracy                           0.68       284\n",
      "   macro avg       0.34      0.50      0.40       284\n",
      "weighted avg       0.46      0.68      0.55       284\n",
      "\n",
      "\n",
      "BINARY METRICS:\n",
      "ROC-AUC Score: 0.6130\n",
      "PR-AUC Score: 0.7823\n"
     ]
    },
    {
     "name": "stderr",
     "output_type": "stream",
     "text": [
      "c:\\V89\\.venv\\Lib\\site-packages\\sklearn\\metrics\\_classification.py:1731: UndefinedMetricWarning: Precision is ill-defined and being set to 0.0 in labels with no predicted samples. Use `zero_division` parameter to control this behavior.\n",
      "  _warn_prf(average, modifier, f\"{metric.capitalize()} is\", result.shape[0])\n",
      "c:\\V89\\.venv\\Lib\\site-packages\\sklearn\\metrics\\_classification.py:1731: UndefinedMetricWarning: Precision is ill-defined and being set to 0.0 in labels with no predicted samples. Use `zero_division` parameter to control this behavior.\n",
      "  _warn_prf(average, modifier, f\"{metric.capitalize()} is\", result.shape[0])\n",
      "c:\\V89\\.venv\\Lib\\site-packages\\sklearn\\metrics\\_classification.py:1731: UndefinedMetricWarning: Precision is ill-defined and being set to 0.0 in labels with no predicted samples. Use `zero_division` parameter to control this behavior.\n",
      "  _warn_prf(average, modifier, f\"{metric.capitalize()} is\", result.shape[0])\n"
     ]
    },
    {
     "data": {
      "image/png": "[encoded data removed]",
      "text/plain": [
       "<Figure size 640x480 with 2 Axes>"
      ]
     },
     "metadata": {},
     "output_type": "display_data"
    }
   ],
   "source": [
    "# ===== Cell 9: Full evaluation with metrics and confusion matrix =====\n",
    "from sklearn.metrics import confusion_matrix, ConfusionMatrixDisplay, roc_auc_score, average_precision_score\n",
    "\n",
    "model.eval()    \n",
    "y_true, y_pred, y_score = [], [], []\n",
    "with torch.no_grad():\n",
    "    for batch in val_loader:\n",
    "        input_values = batch['input_values'].to(device)\n",
    "        attention_mask = batch['attention_mask'].to(device)\n",
    "        labels = batch['labels'].to(device)\n",
    "\n",
    "        outputs = model(input_values, attention_mask=attention_mask)\n",
    "        logits = outputs.logits\n",
    "        preds = torch.argmax(logits, dim=-1)\n",
    "\n",
    "        y_true.extend(labels.cpu().numpy())\n",
    "        y_pred.extend(preds.cpu().numpy())\n",
    "        y_score.extend(torch.softmax(logits, dim=1)[:, 1].cpu().numpy())  # Prob for class 1 (Apnea)\n",
    "\n",
    "# Classification report\n",
    "print(\"BINARY CLASSIFICATION REPORT:\")\n",
    "print(\"=\"*40)\n",
    "print(classification_report(y_true, y_pred, target_names=label_encoder.classes_))\n",
    "\n",
    "# Metrics\n",
    "roc_auc = roc_auc_score(y_true, y_score)\n",
    "pr_auc = average_precision_score(y_true, y_score)\n",
    "print(\"\\nBINARY METRICS:\")\n",
    "print(f\"ROC-AUC Score: {roc_auc:.4f}\")\n",
    "print(f\"PR-AUC Score: {pr_auc:.4f}\")\n",
    "\n",
    "# Confusion Matrix\n",
    "cm = confusion_matrix(y_true, y_pred)\n",
    "disp = ConfusionMatrixDisplay(confusion_matrix=cm, display_labels=label_encoder.classes_)\n",
    "disp.plot(cmap='Blues')\n",
    "plt.title(\"Confusion Matrix\")\n",
    "plt.show()\n"
   ]
  },
  {
   "cell_type": "markdown",
   "id": "be6fe881",
   "metadata": {},
   "source": [
    "# Wav trim"
   ]
  },
  {
   "cell_type": "code",
   "execution_count": 78,
   "id": "a2797e2c",
   "metadata": {},
   "outputs": [
    {
     "name": "stdout",
     "output_type": "stream",
     "text": [
      "⚠️ Skip C:\\V89\\data2\\00000999-100507[001].edf - start_sec 967.5 beyond length 37.50s\n",
      "⚠️ Skip C:\\V89\\data2\\00000999-100507[001].edf - start_sec 1388.5 beyond length 37.50s\n",
      "⚠️ Skip C:\\V89\\data2\\00000999-100507[001].edf - start_sec 1468.0 beyond length 37.50s\n",
      "⚠️ Skip C:\\V89\\data2\\00000999-100507[001].edf - start_sec 1638.0 beyond length 37.50s\n",
      "⚠️ Skip C:\\V89\\data2\\00000999-100507[001].edf - start_sec 1863.5 beyond length 37.50s\n",
      "⚠️ Skip C:\\V89\\data2\\00000999-100507[001].edf - start_sec 1938.0 beyond length 37.50s\n",
      "⚠️ Skip C:\\V89\\data2\\00000999-100507[001].edf - start_sec 2099.5 beyond length 37.50s\n",
      "⚠️ Skip C:\\V89\\data2\\00000999-100507[001].edf - start_sec 2248.5 beyond length 37.50s\n",
      "⚠️ Skip C:\\V89\\data2\\00000999-100507[001].edf - start_sec 2651.5 beyond length 37.50s\n",
      "⚠️ Skip C:\\V89\\data2\\00000999-100507[001].edf - start_sec 2745.5 beyond length 37.50s\n",
      "⚠️ Skip C:\\V89\\data2\\00000999-100507[001].edf - start_sec 2898.5 beyond length 37.50s\n",
      "⚠️ Skip C:\\V89\\data2\\00000999-100507[001].edf - start_sec 3330.5 beyond length 37.50s\n",
      "⚠️ Skip C:\\V89\\data2\\00000999-100507[001].edf - start_sec 3370.0 beyond length 37.50s\n",
      "⚠️ Skip C:\\V89\\data2\\00000999-100507[001].edf - start_sec 3423.0 beyond length 37.50s\n",
      "⚠️ Skip C:\\V89\\data2\\00000999-100507[001].edf - start_sec 3492.0 beyond length 37.50s\n",
      "⚠️ Skip C:\\V89\\data2\\00000999-100507[001].edf - start_sec 3574.5 beyond length 37.50s\n",
      "⚠️ Skip C:\\V89\\data2\\00000999-100507[002].edf - start_sec 3967.0 beyond length 37.50s\n",
      "⚠️ Skip C:\\V89\\data2\\00000999-100507[002].edf - start_sec 4436.5 beyond length 37.50s\n",
      "⚠️ Skip C:\\V89\\data2\\00000999-100507[002].edf - start_sec 4518.5 beyond length 37.50s\n",
      "⚠️ Skip C:\\V89\\data2\\00000999-100507[002].edf - start_sec 4722.0 beyond length 37.50s\n",
      "⚠️ Skip C:\\V89\\data2\\00000999-100507[002].edf - start_sec 4754.0 beyond length 37.50s\n",
      "⚠️ Skip C:\\V89\\data2\\00000999-100507[002].edf - start_sec 4972.5 beyond length 37.50s\n",
      "⚠️ Skip C:\\V89\\data2\\00000999-100507[002].edf - start_sec 5096.0 beyond length 37.50s\n",
      "⚠️ Skip C:\\V89\\data2\\00000999-100507[002].edf - start_sec 5159.5 beyond length 37.50s\n",
      "⚠️ Skip C:\\V89\\data2\\00000999-100507[002].edf - start_sec 5296.5 beyond length 37.50s\n",
      "⚠️ Skip C:\\V89\\data2\\00000999-100507[002].edf - start_sec 5641.5 beyond length 37.50s\n",
      "⚠️ Skip C:\\V89\\data2\\00000999-100507[002].edf - start_sec 5737.5 beyond length 37.50s\n",
      "⚠️ Skip C:\\V89\\data2\\00000999-100507[002].edf - start_sec 5829.5 beyond length 37.50s\n",
      "⚠️ Skip C:\\V89\\data2\\00000999-100507[002].edf - start_sec 5865.0 beyond length 37.50s\n",
      "⚠️ Skip C:\\V89\\data2\\00000999-100507[002].edf - start_sec 5953.0 beyond length 37.50s\n",
      "⚠️ Skip C:\\V89\\data2\\00000999-100507[002].edf - start_sec 6040.0 beyond length 37.50s\n",
      "⚠️ Skip C:\\V89\\data2\\00000999-100507[002].edf - start_sec 6128.0 beyond length 37.50s\n",
      "⚠️ Skip C:\\V89\\data2\\00000999-100507[002].edf - start_sec 6183.5 beyond length 37.50s\n",
      "⚠️ Skip C:\\V89\\data2\\00000999-100507[002].edf - start_sec 6224.5 beyond length 37.50s\n",
      "⚠️ Skip C:\\V89\\data2\\00000999-100507[002].edf - start_sec 6399.5 beyond length 37.50s\n",
      "⚠️ Skip C:\\V89\\data2\\00000999-100507[002].edf - start_sec 6478.5 beyond length 37.50s\n",
      "⚠️ Skip C:\\V89\\data2\\00000999-100507[002].edf - start_sec 6529.0 beyond length 37.50s\n",
      "⚠️ Skip C:\\V89\\data2\\00000999-100507[002].edf - start_sec 6692.5 beyond length 37.50s\n",
      "⚠️ Skip C:\\V89\\data2\\00000999-100507[002].edf - start_sec 6912.0 beyond length 37.50s\n",
      "⚠️ Skip C:\\V89\\data2\\00000999-100507[002].edf - start_sec 7025.0 beyond length 37.50s\n",
      "⚠️ Skip C:\\V89\\data2\\00000999-100507[002].edf - start_sec 7090.5 beyond length 37.50s\n",
      "⚠️ Skip C:\\V89\\data2\\00000999-100507[002].edf - start_sec 7147.0 beyond length 37.50s\n",
      "⚠️ Skip C:\\V89\\data2\\00000999-100507[003].edf - start_sec 7208.5 beyond length 37.50s\n",
      "⚠️ Skip C:\\V89\\data2\\00000999-100507[003].edf - start_sec 7422.0 beyond length 37.50s\n",
      "⚠️ Skip C:\\V89\\data2\\00000999-100507[003].edf - start_sec 7649.0 beyond length 37.50s\n",
      "⚠️ Skip C:\\V89\\data2\\00000999-100507[003].edf - start_sec 7855.5 beyond length 37.50s\n",
      "⚠️ Skip C:\\V89\\data2\\00000999-100507[003].edf - start_sec 8435.5 beyond length 37.50s\n",
      "⚠️ Skip C:\\V89\\data2\\00000999-100507[003].edf - start_sec 8498.5 beyond length 37.50s\n",
      "⚠️ Skip C:\\V89\\data2\\00000999-100507[003].edf - start_sec 8620.5 beyond length 37.50s\n",
      "⚠️ Skip C:\\V89\\data2\\00000999-100507[003].edf - start_sec 8730.5 beyond length 37.50s\n",
      "⚠️ Skip C:\\V89\\data2\\00000999-100507[003].edf - start_sec 8881.5 beyond length 37.50s\n",
      "⚠️ Skip C:\\V89\\data2\\00000999-100507[003].edf - start_sec 8977.0 beyond length 37.50s\n",
      "⚠️ Skip C:\\V89\\data2\\00000999-100507[003].edf - start_sec 9766.0 beyond length 37.50s\n",
      "⚠️ Skip C:\\V89\\data2\\00000999-100507[003].edf - start_sec 10479.5 beyond length 37.50s\n",
      "⚠️ Skip C:\\V89\\data2\\00000999-100507[004].edf - start_sec 10827.5 beyond length 37.50s\n",
      "⚠️ Skip C:\\V89\\data2\\00000999-100507[004].edf - start_sec 10905.5 beyond length 37.50s\n",
      "⚠️ Skip C:\\V89\\data2\\00000999-100507[004].edf - start_sec 10980.0 beyond length 37.50s\n",
      "⚠️ Skip C:\\V89\\data2\\00000999-100507[004].edf - start_sec 11019.5 beyond length 37.50s\n",
      "⚠️ Skip C:\\V89\\data2\\00000999-100507[004].edf - start_sec 11171.0 beyond length 37.50s\n",
      "⚠️ Skip C:\\V89\\data2\\00000999-100507[004].edf - start_sec 11257.0 beyond length 37.50s\n",
      "⚠️ Skip C:\\V89\\data2\\00000999-100507[004].edf - start_sec 11346.5 beyond length 37.50s\n",
      "⚠️ Skip C:\\V89\\data2\\00000999-100507[004].edf - start_sec 11536.5 beyond length 37.50s\n"
     ]
    },
    {
     "ename": "KeyboardInterrupt",
     "evalue": "",
     "output_type": "error",
     "traceback": [
      "\u001b[31m---------------------------------------------------------------------------\u001b[39m",
      "\u001b[31mKeyboardInterrupt\u001b[39m                         Traceback (most recent call last)",
      "\u001b[36mCell\u001b[39m\u001b[36m \u001b[39m\u001b[32mIn[78]\u001b[39m\u001b[32m, line 36\u001b[39m\n\u001b[32m     34\u001b[39m \u001b[38;5;28;01mfor\u001b[39;00m ch_name \u001b[38;5;129;01min\u001b[39;00m [\u001b[33m\"\u001b[39m\u001b[33mMic\u001b[39m\u001b[33m\"\u001b[39m, \u001b[33m\"\u001b[39m\u001b[33mSnore\u001b[39m\u001b[33m\"\u001b[39m]:\n\u001b[32m     35\u001b[39m     \u001b[38;5;28;01mif\u001b[39;00m ch_name \u001b[38;5;129;01min\u001b[39;00m signal_labels:\n\u001b[32m---> \u001b[39m\u001b[32m36\u001b[39m         ch_data = f.readSignal(signal_labels.index(ch_name)).astype(np.float32)\n\u001b[32m     37\u001b[39m         channels_to_load.append(ch_data)\n\u001b[32m     39\u001b[39m \u001b[38;5;28;01mif\u001b[39;00m \u001b[38;5;129;01mnot\u001b[39;00m channels_to_load:\n",
      "\u001b[31mKeyboardInterrupt\u001b[39m: "
     ]
    }
   ],
   "source": [
    "import os\n",
    "import pandas as pd\n",
    "import numpy as np\n",
    "from pathlib import Path\n",
    "import torch\n",
    "import torchaudio\n",
    "import pyedflib\n",
    "\n",
    "# ==== CONFIG ====\n",
    "CSV_PATH = r\"C:\\V89\\Snore_Apnea_Analyze\\EDF_RML\\data_csv\\respiratory_binary_v2.csv\"\n",
    "EDF_ROOT = Path(r\"C:\\V89\\data2\")   # ที่เก็บ EDF\n",
    "OUT_WAV_ROOT = Path(r\"C:\\V89\\data3\")  # ที่จะเก็บ .wav\n",
    "TARGET_SR = 16000\n",
    "SEGMENT_DURATION = 5.0  # วินาที\n",
    "\n",
    "OUT_WAV_ROOT.mkdir(parents=True, exist_ok=True)\n",
    "\n",
    "# โหลด CSV\n",
    "df = pd.read_csv(CSV_PATH)\n",
    "wav_paths = []\n",
    "\n",
    "for i, row in df.iterrows():\n",
    "    edf_filename = f\"{row['patient_id']:08d}-100507[{row['segment_index']+1:03d}].edf\"\n",
    "    edf_path = EDF_ROOT / edf_filename\n",
    "\n",
    "    label = row['type']  # ใช้ชื่อคลาส หรือจะใช้ label int ก็ได้\n",
    "    start_sec = float(row['start_sec'])\n",
    "    duration = min(float(row['duration_sec']), SEGMENT_DURATION)\n",
    "\n",
    "    with pyedflib.EdfReader(str(edf_path)) as f:\n",
    "        signal_labels = f.getSignalLabels()\n",
    "\n",
    "        channels_to_load = []\n",
    "        for ch_name in [\"Mic\", \"Snore\"]:\n",
    "            if ch_name in signal_labels:\n",
    "                ch_data = f.readSignal(signal_labels.index(ch_name)).astype(np.float32)\n",
    "                channels_to_load.append(ch_data)\n",
    "\n",
    "        if not channels_to_load:\n",
    "            print(f\"❌ No Mic or Snore found in {edf_path}\")\n",
    "            continue\n",
    "\n",
    "        # ให้ยาวเท่ากัน\n",
    "        min_len = min(len(ch) for ch in channels_to_load)\n",
    "        channels_to_load = [ch[:min_len] for ch in channels_to_load]\n",
    "\n",
    "        # รวมเป็น mono\n",
    "        waveform = np.mean(np.stack(channels_to_load, axis=0), axis=0)\n",
    "\n",
    "        # Resample ถ้าจำเป็น (ทำก่อน crop จะดีกว่าในกรณีเราจะใช้ sample index ใหม่)\n",
    "        orig_freq = f.getSampleFrequency(signal_labels.index(\"Mic\" if \"Mic\" in signal_labels else \"Snore\"))\n",
    "        waveform = torch.tensor(waveform, dtype=torch.float32).unsqueeze(0)\n",
    "\n",
    "        if orig_freq != TARGET_SR:\n",
    "            waveform = torchaudio.transforms.Resample(orig_freq=orig_freq, new_freq=TARGET_SR)(waveform)\n",
    "            orig_freq = TARGET_SR\n",
    "\n",
    "        # Crop เฉพาะ segment\n",
    "        start_sample = int(start_sec * orig_freq)\n",
    "        end_sample = start_sample + int(duration * orig_freq)\n",
    "\n",
    "        # กัน start_sample เกินความยาว\n",
    "        if start_sample >= waveform.shape[1]:\n",
    "            print(f\"⚠️ Skip {edf_path} - start_sec {start_sec} beyond length {waveform.shape[1]/orig_freq:.2f}s\")\n",
    "            continue\n",
    "\n",
    "        end_sample = min(end_sample, waveform.shape[1])\n",
    "        waveform = waveform[:, start_sample:end_sample]\n",
    "\n",
    "        # Pad ถ้าสั้นกว่า target length\n",
    "        target_len = int(SEGMENT_DURATION * orig_freq)\n",
    "        if waveform.shape[1] < target_len:\n",
    "            pad_len = target_len - waveform.shape[1]\n",
    "            waveform = torch.nn.functional.pad(waveform, (0, pad_len))\n",
    "\n",
    "        # ถ้ายังว่างอยู่ skip\n",
    "        if waveform.numel() == 0:\n",
    "            print(f\"⚠️ Empty segment in {edf_path} (index {i})\")\n",
    "            continue\n",
    "\n",
    "    # Save wav\n",
    "    out_path = OUT_WAV_ROOT / f\"{i}_{label}.wav\"\n",
    "    torchaudio.save(str(out_path), waveform, TARGET_SR)\n",
    "    wav_paths.append(str(out_path))\n",
    "\n",
    "    if i % 100 == 0:\n",
    "        print(f\"[{i}/{len(df)}] Saved {out_path}\")\n",
    "\n",
    "# สร้าง CSV ใหม่ที่มี path\n",
    "df[\"wav_path\"] = wav_paths\n",
    "out_csv = CSV_PATH.replace(\".csv\", \"_with_wav.csv\")\n",
    "df.to_csv(out_csv, index=False)\n",
    "print(f\"✅ Done! Saved new CSV with wav paths: {out_csv}\")\n"
   ]
  },
  {
   "cell_type": "markdown",
   "id": "06ecbd63",
   "metadata": {},
   "source": [
    "# "
   ]
  }
 ],
 "metadata": {
  "kernelspec": {
   "display_name": ".venv",
   "language": "python",
   "name": "python3"
  },
  "language_info": {
   "codemirror_mode": {
    "name": "ipython",
    "version": 3
   },
   "file_extension": ".py",
   "mimetype": "text/x-python",
   "name": "python",
   "nbconvert_exporter": "python",
   "pygments_lexer": "ipython3",
   "version": "3.11.7"
  }
 },
 "nbformat": 4,
 "nbformat_minor": 5
}
